{
 "cells": [
  {
   "cell_type": "code",
   "execution_count": 11,
   "id": "completed-scope",
   "metadata": {},
   "outputs": [],
   "source": [
    "import os\n",
    "import re\n",
    "\n",
    "import pandas as pd\n",
    "import numpy as np\n",
    "import plotnine as pn\n",
    "import matplotlib.pyplot as plt"
   ]
  },
  {
   "cell_type": "code",
   "execution_count": 12,
   "id": "preceding-spyware",
   "metadata": {},
   "outputs": [],
   "source": [
    "SUB_REGEX = re.compile(\"sub-[A-Za-z0-9]+\")\n",
    "SES_REGEX = re.compile(\"ses-[A-Za-z0-9]+\")\n",
    "TASK_REGEX = re.compile(\"task-[A-Za-z0-9]+\")\n",
    "RUN_REGEX = re.compile(\"run-[A-Za-z0-9]+\")\n",
    "DESC_REGEX = re.compile(\"desc-[A-Za-z0-9]+\")"
   ]
  },
  {
   "cell_type": "code",
   "execution_count": 13,
   "id": "going-yahoo",
   "metadata": {},
   "outputs": [],
   "source": [
    "def split_entities(row):\n",
    "    '''\n",
    "    Given row x, construct entities\n",
    "    '''\n",
    "    \n",
    "    def get_reg(reg, x):\n",
    "        res = reg.search(x)\n",
    "        return res[0] if res else np.nan\n",
    "    \n",
    "    x = row.entity\n",
    "    sub_entities = (\n",
    "        (\"sub\", get_reg(SUB_REGEX, x)),\n",
    "        (\"ses\", get_reg(SES_REGEX, x)),\n",
    "        (\"task\",get_reg(TASK_REGEX, x)),\n",
    "        (\"run\",get_reg(RUN_REGEX, x)),\n",
    "        (\"desc\",get_reg(DESC_REGEX, x))\n",
    "    )\n",
    "    \n",
    "    for k,v in sub_entities:\n",
    "        row[k] = v \n",
    "    return row"
   ]
  },
  {
   "cell_type": "code",
   "execution_count": 22,
   "id": "nominated-bandwidth",
   "metadata": {},
   "outputs": [],
   "source": [
    "scratch = \"/scratch/jjeyachandra/multiband-censoring-comparisons/\"\n",
    "f_qcfc = f\"{scratch}/output/QCFC_results.parquet\""
   ]
  },
  {
   "cell_type": "code",
   "execution_count": 51,
   "id": "polish-canada",
   "metadata": {},
   "outputs": [
    {
     "name": "stdout",
     "output_type": "stream",
     "text": [
      "<class 'pandas.core.frame.DataFrame'>\n",
      "Int64Index: 140196 entries, 1 to 35148\n",
      "Data columns (total 5 columns):\n",
      " #   Column   Non-Null Count   Dtype   \n",
      "---  ------   --------------   -----   \n",
      " 0   source   140196 non-null  category\n",
      " 1   target   140196 non-null  category\n",
      " 2   pearson  140196 non-null  float64 \n",
      " 3   pvalue   140196 non-null  float64 \n",
      " 4   method   140196 non-null  category\n",
      "dtypes: category(3), float64(2)\n",
      "memory usage: 3.8 MB\n"
     ]
    }
   ],
   "source": [
    "# Load and format data\n",
    "cat_cols = ['source','target','method']\n",
    "qcfc = pd.read_parquet(f_qcfc)\\\n",
    "        .astype({k: 'category' for k in cat_cols})\\\n",
    "        .dropna(axis=0)\n",
    "qcfc.info()"
   ]
  },
  {
   "cell_type": "markdown",
   "id": "internal-police",
   "metadata": {},
   "source": [
    "### Analysis 1: Percent Edge significantly correlated with motion"
   ]
  },
  {
   "cell_type": "markdown",
   "id": "great-pollution",
   "metadata": {},
   "source": [
    "In this analysis we compute pearson correlations between measured `framewise displacement` and `edge-FC`. Significance thresholding was done using `FDR` at $\\alpha < 0.05$"
   ]
  },
  {
   "cell_type": "code",
   "execution_count": 52,
   "id": "aquatic-helicopter",
   "metadata": {},
   "outputs": [],
   "source": [
    "import statsmodels.stats.multitest as stats_mc\n",
    "from functools import partial"
   ]
  },
  {
   "cell_type": "code",
   "execution_count": 53,
   "id": "changing-mississippi",
   "metadata": {},
   "outputs": [],
   "source": [
    "def fdr(g, alpha=0.05, method='fdr_bh'):\n",
    "    '''\n",
    "    Apply FDR correction to a pandas.Series p-value object\n",
    "    '''\n",
    "    res, _, _, _ = stats_mc.multipletests(g, alpha=alpha,\n",
    "                                         method=method)\n",
    "    return res\n",
    "\n",
    "# Perform FDR on each method\n",
    "qcfc['fdr'] = qcfc.groupby('method')['pvalue'].transform(fdr)"
   ]
  },
  {
   "cell_type": "code",
   "execution_count": 83,
   "id": "military-government",
   "metadata": {},
   "outputs": [],
   "source": [
    "# Compute number of significant edges/group\n",
    "sig_edges_by_group =\\\n",
    "    qcfc.groupby('method')\\\n",
    "        .apply(\n",
    "            lambda x: 100*x.fdr.sum()/x.fdr.shape[0]\n",
    "        )"
   ]
  },
  {
   "cell_type": "code",
   "execution_count": 124,
   "id": "democratic-vaccine",
   "metadata": {},
   "outputs": [
    {
     "data": {
      "image/png": "[encoded data removed]",
      "text/plain": [
       "<Figure size 640x480 with 1 Axes>"
      ]
     },
     "metadata": {},
     "output_type": "display_data"
    },
    {
     "data": {
      "text/plain": [
       "<ggplot: (8760753389279)>"
      ]
     },
     "execution_count": 124,
     "metadata": {},
     "output_type": "execute_result"
    }
   ],
   "source": [
    "viz_sig = pd.DataFrame(sig_edges_by_group,\n",
    "                       columns=['percent_sig'])\\\n",
    "            .reset_index()\n",
    "\n",
    "dodge_text = pn.position_dodge(width=0.0)\n",
    "\n",
    "(pn.ggplot(viz_sig, pn.aes(x='method', y='percent_sig'))\n",
    "    + pn.geom_col()\n",
    "    + pn.geom_text(pn.aes(label='percent_sig'),\n",
    "                size=10, va='bottom',\n",
    "                format_string=\"{:.1f}%\")\n",
    "    + pn.theme(\n",
    "        panel_background=pn.element_rect(fill='white'),\n",
    "        axis_line_x=pn.element_line(color='black'),\n",
    "        axis_ticks_major_y=pn.element_line(color='black',size=2.5)\n",
    "    )\n",
    ")  "
   ]
  },
  {
   "cell_type": "markdown",
   "id": "balanced-dimension",
   "metadata": {},
   "source": [
    "### Analysis 2: Medial Correlation Value of Significant Edges"
   ]
  },
  {
   "cell_type": "markdown",
   "id": "responsible-salem",
   "metadata": {},
   "source": [
    "In this analysis we compute the median pearson $\\rho$ correlation value for each of the censoring methods."
   ]
  },
  {
   "cell_type": "code",
   "execution_count": 176,
   "id": "sized-netscape",
   "metadata": {},
   "outputs": [
    {
     "data": {
      "image/png": "[encoded data removed]",
      "text/plain": [
       "<Figure size 640x480 with 1 Axes>"
      ]
     },
     "metadata": {},
     "output_type": "display_data"
    },
    {
     "data": {
      "text/plain": [
       "<ggplot: (8761037643337)>"
      ]
     },
     "execution_count": 176,
     "metadata": {},
     "output_type": "execute_result"
    }
   ],
   "source": [
    "median_df = qcfc.loc[:, ['method','pearson']]\\\n",
    "            .groupby('method')\\\n",
    "            .median()\\\n",
    "            .reset_index()\\\n",
    "            .rename(columns={'pearson':'median'})\n",
    "\n",
    "(pn.ggplot(median_df, pn.aes(x='method', y='median'))\n",
    "    + pn.geom_col()\n",
    "    + pn.geom_text(pn.aes(label='median'),\n",
    "                size=10, va='bottom',\n",
    "                format_string=\"{:3f}\")\n",
    "    + pn.theme(\n",
    "        panel_background=pn.element_rect(fill='white'),\n",
    "        axis_line_x=pn.element_line(color='black'),\n",
    "        axis_ticks_major_y=pn.element_line(color='black',size=2.5)\n",
    "    )\n",
    ")  "
   ]
  },
  {
   "cell_type": "code",
   "execution_count": 179,
   "id": "muslim-trade",
   "metadata": {
    "scrolled": false
   },
   "outputs": [
    {
     "name": "stderr",
     "output_type": "stream",
     "text": [
      "/projects/jjeyachandra/pyenv/versions/3.8.0/envs/power_censor/lib/python3.8/site-packages/plotnine/stats/stat_bin.py:95: PlotnineWarning: 'stat_bin()' using 'bins = 142'. Pick better value with 'binwidth'.\n"
     ]
    },
    {
     "data": {
      "image/png": "[encoded data removed]",
      "text/plain": [
       "<Figure size 640x480 with 4 Axes>"
      ]
     },
     "metadata": {},
     "output_type": "display_data"
    },
    {
     "data": {
      "text/plain": [
       "<ggplot: (8761037695973)>"
      ]
     },
     "execution_count": 179,
     "metadata": {},
     "output_type": "execute_result"
    }
   ],
   "source": [
    "(pn.ggplot(qcfc, pn.aes(x='pearson',\n",
    "                        y=pn.after_stat('ncount')))\n",
    "    + pn.geom_histogram()\n",
    "    + pn.geom_vline(xintercept=0,\n",
    "                    size=1,\n",
    "                    linetype='dashed')\n",
    "    + pn.theme(\n",
    "        panel_background=pn.element_rect(fill='white'),\n",
    "        axis_line_x=pn.element_line(color='black'),\n",
    "        axis_ticks_major_y=pn.element_line(color='black',size=2.5)\n",
    "    )\n",
    "    + pn.facet_wrap(' ~ method')\n",
    ")"
   ]
  },
  {
   "cell_type": "markdown",
   "id": "opponent-resistance",
   "metadata": {},
   "source": [
    "### Analysis 3: Distance Dependent Relationship between Connectivity and Motion Artifact"
   ]
  },
  {
   "cell_type": "code",
   "execution_count": 180,
   "id": "united-knight",
   "metadata": {},
   "outputs": [],
   "source": [
    "# Need a distance matrix for parcellation"
   ]
  }
 ],
 "metadata": {
  "kernelspec": {
   "display_name": "Python 3",
   "language": "python",
   "name": "python3"
  },
  "language_info": {
   "codemirror_mode": {
    "name": "ipython",
    "version": 3
   },
   "file_extension": ".py",
   "mimetype": "text/x-python",
   "name": "python",
   "nbconvert_exporter": "python",
   "pygments_lexer": "ipython3",
   "version": "3.8.0"
  }
 },
 "nbformat": 4,
 "nbformat_minor": 5
}
