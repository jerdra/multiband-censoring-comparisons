{
 "cells": [
  {
   "cell_type": "markdown",
   "id": "yellow-uncertainty",
   "metadata": {},
   "source": [
    "# Network Identifiability\n",
    "\n",
    "Here we use a measure of network modularity `Q` obtained via Louvain's heuristic for partitioning a graph structure. \n",
    "\n",
    "Like in Ciric (2017) we will:\n",
    "\n",
    "- [x] Use a signed variant of the Louvain algorithm to allow for negative edges\n",
    "- [x] Not threshold our data (see note)\n",
    "\n",
    "We'll be using $\\tau=0$ as with the Louvain method lower values of $\\tau$ provide [better partitions](https://static-content.springer.com/esm/art%3A10.1038%2Fsrep00336/MediaObjects/41598_2012_BFsrep00336_MOESM1_ESM.pdf):"
   ]
  },
  {
   "cell_type": "code",
   "execution_count": 128,
   "id": "hollywood-worth",
   "metadata": {},
   "outputs": [],
   "source": [
    "import os\n",
    "import re\n",
    "\n",
    "from multiprocessing import Pool\n",
    "\n",
    "import numpy as np\n",
    "import pandas as pd\n",
    "\n",
    "import bct"
   ]
  },
  {
   "cell_type": "code",
   "execution_count": 100,
   "id": "innocent-marriage",
   "metadata": {},
   "outputs": [],
   "source": [
    "SUB_REGEX = re.compile(\"sub-[A-Za-z0-9]+\")\n",
    "SES_REGEX = re.compile(\"ses-[A-Za-z0-9]+\")\n",
    "TASK_REGEX = re.compile(\"task-[A-Za-z0-9]+\")\n",
    "RUN_REGEX = re.compile(\"run-[A-Za-z0-9]+\")\n",
    "DESC_REGEX = re.compile(\"desc-[A-Za-z0-9]+\")\n",
    "MATCH_ENTITIES = [\n",
    "    'sub','ses','task','run'\n",
    "    ]"
   ]
  },
  {
   "cell_type": "code",
   "execution_count": 147,
   "id": "committed-agreement",
   "metadata": {},
   "outputs": [],
   "source": [
    "scratch = \"/scratch/jjeyachandra/multiband-censoring-comparisons/\"\n",
    "subject_csvs = [\n",
    "    f\"{scratch}/output/{f}\"\n",
    "    for f in\n",
    "    os.listdir(os.path.join(scratch, \"output\"))\n",
    "    if \"sub-\" in f and f.endswith(\"tsv\")\n",
    "]"
   ]
  },
  {
   "cell_type": "markdown",
   "id": "enabling-london",
   "metadata": {},
   "source": [
    "## Part 1: Preprocessing\n",
    "\n",
    "Here we compute modularity $Q$"
   ]
  },
  {
   "cell_type": "code",
   "execution_count": 105,
   "id": "floral-pharmaceutical",
   "metadata": {},
   "outputs": [],
   "source": [
    "def load_and_transform(csv):\n",
    "    df = pd.read_csv(csv, sep=\"\\t\").set_index(\"row\")\n",
    "    remove_indices = df.index.str.contains(\"\\?\\?\\?\")\n",
    "    remove_cols = df.columns.str.contains(\"\\?\\?\\?\")\n",
    "    return ex.drop(ex.index[remove_indices])\\\n",
    "            .drop(ex.columns[remove_indices], axis=1)\\\n",
    "            .to_numpy()"
   ]
  },
  {
   "cell_type": "code",
   "execution_count": 141,
   "id": "alert-uganda",
   "metadata": {},
   "outputs": [],
   "source": [
    "def compute_CI(G, num_opt=100):\n",
    "    '''\n",
    "    Compute a [V x C] matrix where:\n",
    "    V - indicates a particular vertex\n",
    "    C - indicates the community assignment of a vertex\n",
    "    \n",
    "    Arguments:\n",
    "        G - Symmetric Graph to compute on\n",
    "        num_opt - Number of Louvain optimizations to perform\n",
    "    '''\n",
    "    \n",
    "    CI = np.empty((G.shape[0], num_opt))\n",
    "    Qs = np.empty((num_opt))\n",
    "    for i in range(num_opt):\n",
    "        P, Q = bct.modularity_louvain_und_sign(G)\n",
    "        CI[:, i] = P\n",
    "        Qs[i] = Q\n",
    "    return CI, Qs.mean()"
   ]
  },
  {
   "cell_type": "code",
   "execution_count": 145,
   "id": "equal-revelation",
   "metadata": {},
   "outputs": [],
   "source": [
    "def compute_subject_Q(csv):\n",
    "    _, Q = compute_CI(load_and_transform(csv))\n",
    "    return Q"
   ]
  },
  {
   "cell_type": "code",
   "execution_count": 176,
   "id": "rocky-brooks",
   "metadata": {},
   "outputs": [],
   "source": [
    "def split_entities(x):\n",
    "    '''\n",
    "    Given a BIDS string x, construct entities\n",
    "    '''\n",
    "    \n",
    "    def get_reg(reg, x):\n",
    "        res = reg.search(x)\n",
    "        return res[0] if res else np.nan\n",
    "    \n",
    "    sub_entities = (\n",
    "        (\"sub\", get_reg(SUB_REGEX, x)),\n",
    "        (\"ses\", get_reg(SES_REGEX, x)),\n",
    "        (\"task\",get_reg(TASK_REGEX, x)),\n",
    "        (\"run\",get_reg(RUN_REGEX, x)),\n",
    "        (\"desc\",get_reg(DESC_REGEX, x))\n",
    "    )\n",
    "    \n",
    "    res = {}\n",
    "    for k,v in sub_entities:\n",
    "        res[k] = v \n",
    "    return res"
   ]
  },
  {
   "cell_type": "code",
   "execution_count": 177,
   "id": "antique-formation",
   "metadata": {},
   "outputs": [],
   "source": [
    "# Run if not computed yet\n",
    "f_modularity = \"../../data/output/modularity.parquet\"\n",
    "if not os.path.exists(f_modularity):\n",
    "    with Pool(30) as pool:\n",
    "        qs = pool.map(compute_subject_Q, subject_csvs)\n",
    "    rows = []\n",
    "    for s, q in zip(subject_csvs, qs):\n",
    "\n",
    "        res = split_entities(os.path.basename(s))\n",
    "        res['Q'] = q\n",
    "        rows.append(res)\n",
    "\n",
    "    qdf = pd.DataFrame.from_dict(rows)\n",
    "    qdf.to_parquet(f_modularity)\n",
    "else:\n",
    "    qdf = pd.read_parquet(f_modularity)"
   ]
  },
  {
   "cell_type": "markdown",
   "id": "close-stopping",
   "metadata": {},
   "source": [
    "## Part 2: Analysis"
   ]
  },
  {
   "cell_type": "code",
   "execution_count": 214,
   "id": "technological-patent",
   "metadata": {},
   "outputs": [],
   "source": [
    "import scipy.stats as scistats"
   ]
  },
  {
   "cell_type": "markdown",
   "id": "collect-instrumentation",
   "metadata": {},
   "source": [
    "Load in the FD dataframe"
   ]
  },
  {
   "cell_type": "code",
   "execution_count": 193,
   "id": "dress-frederick",
   "metadata": {},
   "outputs": [],
   "source": [
    "def extract_entities(row):\n",
    "    entities = split_entities(row.entity)\n",
    "    for k,v in entities.items():\n",
    "        row[k] = v\n",
    "    return row"
   ]
  },
  {
   "cell_type": "code",
   "execution_count": 199,
   "id": "official-respect",
   "metadata": {},
   "outputs": [],
   "source": [
    "f_fd = f\"{scratch}/output/meanFD.csv\"\n",
    "fd = pd.read_csv(f_fd)\\\n",
    "        .apply(extract_entities, axis=1)\\\n",
    "        .dropna(axis=1)"
   ]
  },
  {
   "cell_type": "markdown",
   "id": "antique-resource",
   "metadata": {},
   "source": [
    "Compute Q-FD correlations"
   ]
  },
  {
   "cell_type": "code",
   "execution_count": 204,
   "id": "theoretical-schema",
   "metadata": {},
   "outputs": [],
   "source": [
    "FILTERS = {\n",
    "    'ses': 'ses-01',\n",
    "    'task': 'task-rest',\n",
    "    'run': 'run-1'\n",
    "}"
   ]
  },
  {
   "cell_type": "code",
   "execution_count": 209,
   "id": "timely-attempt",
   "metadata": {},
   "outputs": [],
   "source": [
    "def filter_df(df, filters=FILTERS):\n",
    "    df_masks = np.logical_and.reduce(np.array([\n",
    "                df[k] == v for k,v in filters.items()\n",
    "            ]), axis=0)\n",
    "    df = df.iloc[df_masks, :]\n",
    "    return df"
   ]
  },
  {
   "cell_type": "code",
   "execution_count": 212,
   "id": "exact-worship",
   "metadata": {},
   "outputs": [],
   "source": [
    "df = filter_df(qdf).merge(fd, how='left',\n",
    "                         left_on=MATCH_ENTITIES,\n",
    "                         right_on=MATCH_ENTITIES)"
   ]
  },
  {
   "cell_type": "code",
   "execution_count": 219,
   "id": "fantastic-motivation",
   "metadata": {},
   "outputs": [],
   "source": [
    "results = []\n",
    "for m, g in df.groupby('desc'):\n",
    "    r, p = scistats.pearsonr(g['mean_fd'], g['Q'])\n",
    "    res = {\n",
    "        'pearson': r,\n",
    "        'pvalue': p,\n",
    "        'method': m\n",
    "    }\n",
    "    results.append(res)\n",
    "result_df = pd.DataFrame.from_dict(results)"
   ]
  },
  {
   "cell_type": "markdown",
   "id": "cooperative-wilderness",
   "metadata": {},
   "source": [
    "## Part 3: Visualization"
   ]
  },
  {
   "cell_type": "code",
   "execution_count": 221,
   "id": "patent-infection",
   "metadata": {},
   "outputs": [],
   "source": [
    "import plotnine as pn"
   ]
  },
  {
   "cell_type": "code",
   "execution_count": 252,
   "id": "trying-origin",
   "metadata": {},
   "outputs": [],
   "source": [
    "viz_Q = df.groupby('desc').mean().reset_index()"
   ]
  },
  {
   "cell_type": "code",
   "execution_count": 253,
   "id": "union-negotiation",
   "metadata": {},
   "outputs": [
    {
     "data": {
      "text/html": [
       "<div>\n",
       "<style scoped>\n",
       "    .dataframe tbody tr th:only-of-type {\n",
       "        vertical-align: middle;\n",
       "    }\n",
       "\n",
       "    .dataframe tbody tr th {\n",
       "        vertical-align: top;\n",
       "    }\n",
       "\n",
       "    .dataframe thead th {\n",
       "        text-align: right;\n",
       "    }\n",
       "</style>\n",
       "<table border=\"1\" class=\"dataframe\">\n",
       "  <thead>\n",
       "    <tr style=\"text-align: right;\">\n",
       "      <th></th>\n",
       "      <th>desc</th>\n",
       "      <th>Q</th>\n",
       "      <th>mean_fd</th>\n",
       "    </tr>\n",
       "  </thead>\n",
       "  <tbody>\n",
       "    <tr>\n",
       "      <th>0</th>\n",
       "      <td>desc-base</td>\n",
       "      <td>0.611620</td>\n",
       "      <td>0.275511</td>\n",
       "    </tr>\n",
       "    <tr>\n",
       "      <th>1</th>\n",
       "      <td>desc-dct</td>\n",
       "      <td>0.611598</td>\n",
       "      <td>0.239371</td>\n",
       "    </tr>\n",
       "    <tr>\n",
       "      <th>2</th>\n",
       "      <td>desc-fourier</td>\n",
       "      <td>0.611599</td>\n",
       "      <td>0.239031</td>\n",
       "    </tr>\n",
       "    <tr>\n",
       "      <th>3</th>\n",
       "      <td>desc-lindquistpowers</td>\n",
       "      <td>0.611627</td>\n",
       "      <td>0.239371</td>\n",
       "    </tr>\n",
       "    <tr>\n",
       "      <th>4</th>\n",
       "      <td>desc-powers</td>\n",
       "      <td>0.611621</td>\n",
       "      <td>0.235572</td>\n",
       "    </tr>\n",
       "  </tbody>\n",
       "</table>\n",
       "</div>"
      ],
      "text/plain": [
       "                   desc         Q   mean_fd\n",
       "0             desc-base  0.611620  0.275511\n",
       "1              desc-dct  0.611598  0.239371\n",
       "2          desc-fourier  0.611599  0.239031\n",
       "3  desc-lindquistpowers  0.611627  0.239371\n",
       "4           desc-powers  0.611621  0.235572"
      ]
     },
     "execution_count": 253,
     "metadata": {},
     "output_type": "execute_result"
    }
   ],
   "source": [
    "viz_Q"
   ]
  },
  {
   "cell_type": "code",
   "execution_count": 256,
   "id": "stone-decimal",
   "metadata": {},
   "outputs": [
    {
     "data": {
      "image/png": "[encoded data removed]",
      "text/plain": [
       "<Figure size 640x480 with 1 Axes>"
      ]
     },
     "metadata": {},
     "output_type": "display_data"
    },
    {
     "data": {
      "text/plain": [
       "<ggplot: (8730048891655)>"
      ]
     },
     "execution_count": 256,
     "metadata": {},
     "output_type": "execute_result"
    }
   ],
   "source": [
    "(pn.ggplot(viz_Q, pn.aes(x='desc',\n",
    "                        y='Q'))\n",
    "    + pn.geom_col()\n",
    "    + pn.geom_hline(yintercept=0)\n",
    "    + pn.theme(\n",
    "        panel_background=pn.element_rect(fill='white'),\n",
    "        axis_line_x=pn.element_line(color='black'),\n",
    "        axis_ticks_major_y=pn.element_line(color='black',size=2.5)\n",
    "    )\n",
    ")"
   ]
  },
  {
   "cell_type": "code",
   "execution_count": 238,
   "id": "superb-trout",
   "metadata": {},
   "outputs": [],
   "source": [
    "# Add significance star\n",
    "viz_df = result_df\n",
    "viz_df[\"sig\"] = viz_df['pvalue']\\\n",
    "                    .apply(lambda x: \"*\" if x < 0.05 else '')"
   ]
  },
  {
   "cell_type": "code",
   "execution_count": 239,
   "id": "endless-planner",
   "metadata": {},
   "outputs": [
    {
     "data": {
      "image/png": "[encoded data removed]",
      "text/plain": [
       "<Figure size 640x480 with 1 Axes>"
      ]
     },
     "metadata": {},
     "output_type": "display_data"
    },
    {
     "data": {
      "text/plain": [
       "<ggplot: (8730049410557)>"
      ]
     },
     "execution_count": 239,
     "metadata": {},
     "output_type": "execute_result"
    }
   ],
   "source": [
    "(pn.ggplot(viz_df, pn.aes(x='method', y='pearson'))\n",
    "    + pn.geom_col()\n",
    "    + pn.geom_text(pn.aes(label='sig'),\n",
    "                size=15, va='bottom')\n",
    "    + pn.theme(\n",
    "        panel_background=pn.element_rect(fill='white'),\n",
    "        axis_line_x=pn.element_line(color='black'),\n",
    "        axis_ticks_major_y=pn.element_line(color='black',size=2.5)\n",
    "    )\n",
    ")  "
   ]
  }
 ],
 "metadata": {
  "kernelspec": {
   "display_name": "Python 3",
   "language": "python",
   "name": "python3"
  },
  "language_info": {
   "codemirror_mode": {
    "name": "ipython",
    "version": 3
   },
   "file_extension": ".py",
   "mimetype": "text/x-python",
   "name": "python",
   "nbconvert_exporter": "python",
   "pygments_lexer": "ipython3",
   "version": "3.8.0"
  }
 },
 "nbformat": 4,
 "nbformat_minor": 5
}
