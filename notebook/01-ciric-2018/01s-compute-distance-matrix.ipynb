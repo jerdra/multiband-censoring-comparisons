{
 "cells": [
  {
   "cell_type": "markdown",
   "id": "neural-corporation",
   "metadata": {},
   "source": [
    "# Distance Matrix computation\n",
    "\n",
    "In order to compute the distance-dependency of connectivity values corrupted by motion we require a distance matrix which describes inter-nodal distances.\n",
    "\n",
    "We will compute the distance matrix of a given `surf.gii` and `dlabel.nii` file and output $P\\choose{2} wot$ distances"
   ]
  },
  {
   "cell_type": "code",
   "execution_count": null,
   "id": "robust-pursuit",
   "metadata": {},
   "outputs": [],
   "source": []
  }
 ],
 "metadata": {
  "kernelspec": {
   "display_name": "Python 3",
   "language": "python",
   "name": "python3"
  },
  "language_info": {
   "codemirror_mode": {
    "name": "ipython",
    "version": 3
   },
   "file_extension": ".py",
   "mimetype": "text/x-python",
   "name": "python",
   "nbconvert_exporter": "python",
   "pygments_lexer": "ipython3",
   "version": "3.8.0"
  }
 },
 "nbformat": 4,
 "nbformat_minor": 5
}
