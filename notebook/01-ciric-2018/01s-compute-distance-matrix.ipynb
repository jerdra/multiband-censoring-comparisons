{
 "cells": [
  {
   "cell_type": "markdown",
   "id": "neural-corporation",
   "metadata": {},
   "source": [
    "# Distance Matrix computation\n",
    "\n",
    "In order to compute the distance-dependency of connectivity values corrupted by motion we require a distance matrix which describes inter-nodal distances.\n",
    "\n",
    "We will compute the distance matrix of a given `surf.gii` and `dlabel.nii` file and output ${P\\choose2}$ distances"
   ]
  },
  {
   "cell_type": "code",
   "execution_count": 210,
   "id": "robust-pursuit",
   "metadata": {},
   "outputs": [],
   "source": [
    "import os\n",
    "\n",
    "import numpy as np\n",
    "import nibabel as nib\n",
    "import nibabel.cifti2 as cifti\n",
    "\n",
    "import pandas as pd\n",
    "import scipy.spatial as sspatial"
   ]
  },
  {
   "cell_type": "code",
   "execution_count": 44,
   "id": "metric-match",
   "metadata": {},
   "outputs": [],
   "source": [
    "# Constants\n",
    "S1200_atlas = \"../../data/atlases/S1200_GroupAvg_V1/\"\n",
    "schaefer_atlas = \"../../data/atlases/schaefer_2018/\""
   ]
  },
  {
   "cell_type": "code",
   "execution_count": 45,
   "id": "magnetic-friday",
   "metadata": {},
   "outputs": [
    {
     "name": "stderr",
     "output_type": "stream",
     "text": [
      "pixdim[1,2,3] should be non-zero; setting 0 dims to 1\n"
     ]
    }
   ],
   "source": [
    "# Load group template surface\n",
    "l_surf = nib.load(\n",
    "    f\"{S1200_atlas}/S1200.L.midthickness_MSMAll.32k_fs_LR.surf.gii\"\n",
    ")\n",
    "\n",
    "l_va = nib.load(\n",
    "    f\"{S1200_atlas}/S1200.L.midthickness_MSMAll_va.32k_fs_LR.shape.gii\"\n",
    ")\n",
    "\n",
    "r_surf = nib.load(\n",
    "    f\"{S1200_atlas}/S1200.R.midthickness_MSMAll.32k_fs_LR.surf.gii\"\n",
    ")\n",
    "\n",
    "r_va =nib.load(\n",
    "    f\"{S1200_atlas}/S1200.R.midthickness_MSMAll_va.32k_fs_LR.shape.gii\"\n",
    ")\n",
    "\n",
    "# Load parcellation\n",
    "schaefer = nib.load(\n",
    "    f\"{schaefer_atlas}/Schaefer2018_200Parcels_17Networks_order.dlabel.nii\"\n",
    ")"
   ]
  },
  {
   "cell_type": "code",
   "execution_count": 176,
   "id": "received-roulette",
   "metadata": {},
   "outputs": [],
   "source": [
    "# Pull LabelAxis\n",
    "schaefer_lbls = schaefer.get_fdata().astype(int)\n",
    "\n",
    "# Pull coordinate information\n",
    "l_coords = l_surf.darrays[0].data\n",
    "r_coords = r_surf.darrays[0].data\n",
    "coords = np.vstack((l_coords, r_coords))\n",
    "\n",
    "# Pull vertex areas\n",
    "l_areas = l_va.darrays[0].data\n",
    "r_areas = r_va.darrays[0].data\n",
    "areas = np.concatenate((l_areas, r_areas))"
   ]
  },
  {
   "cell_type": "code",
   "execution_count": 199,
   "id": "prompt-length",
   "metadata": {},
   "outputs": [],
   "source": [
    "def area_weighted_centroid(coords, labels, areas):\n",
    "    '''\n",
    "    Compute Vertex-area weighted surface centroid\n",
    "    '''\n",
    "    \n",
    "    # Parcel values\n",
    "    lbls = labels.get_fdata().astype(int)\n",
    "    \n",
    "    # Get sort indices for labels\n",
    "    sort_inds = np.argsort(lbls).flatten()\n",
    "    v_lbl = labels.header.get_axis(1).vertex[sort_inds]\n",
    "    \n",
    "    \n",
    "    # Get unique labels\n",
    "    u, ind = np.unique(lbls[:, sort_inds], return_index=True)\n",
    "    \n",
    "    # Sort coords and areas\n",
    "    s_coords = coords[sort_inds, :]\n",
    "    s_areas = areas[sort_inds]\n",
    "    \n",
    "    # Split-em up!\n",
    "    coord_arr = np.split(s_coords, ind[1:])\n",
    "    area_arr = np.split(s_areas, ind[1:])\n",
    "    \n",
    "    centroids = np.empty((u.shape[0], 3), dtype=float)\n",
    "    for i, arrs in enumerate(zip(coord_arr, area_arr)):\n",
    "        c, a = arrs\n",
    "        centroids[i,:] = (a / a.sum()) @ c\n",
    "       \n",
    "    return (u, centroids)\n",
    "    "
   ]
  },
  {
   "cell_type": "code",
   "execution_count": 200,
   "id": "integral-laundry",
   "metadata": {},
   "outputs": [],
   "source": [
    "u, centroids = area_weighted_centroid(coords, schaefer, areas)"
   ]
  },
  {
   "cell_type": "code",
   "execution_count": 208,
   "id": "editorial-memphis",
   "metadata": {},
   "outputs": [],
   "source": [
    "# Pairwise distance matrix\n",
    "D = sspatial.distance.cdist(centroids, centroids)"
   ]
  },
  {
   "cell_type": "code",
   "execution_count": 221,
   "id": "super-increase",
   "metadata": {},
   "outputs": [],
   "source": [
    "# Transform into pandas dataframe\n",
    "col_names = [\n",
    "    schaefer.header\\\n",
    "        .get_axis(0).label[0][i][0] for i in u\n",
    "]\n",
    "df = pd.DataFrame(D, columns=col_names,\n",
    "                 index=col_names)\\\n",
    "                .drop('???').drop('???',axis=1)\n"
   ]
  },
  {
   "cell_type": "code",
   "execution_count": 224,
   "id": "loved-sussex",
   "metadata": {},
   "outputs": [
    {
     "name": "stderr",
     "output_type": "stream",
     "text": [
      "<ipython-input-224-0bddf0ed8109>:1: DeprecationWarning: `np.bool` is a deprecated alias for the builtin `bool`. To silence this warning, use `bool` by itself. Doing this will not modify any behavior and is safe. If you specifically wanted the numpy scalar type, use `np.bool_` here.\n",
      "Deprecated in NumPy 1.20; for more details and guidance: https://numpy.org/devdocs/release/1.20.0-notes.html#deprecations\n",
      "  df = df.where(np.triu(np.ones(df.shape)).astype(np.bool))\n"
     ]
    }
   ],
   "source": [
    "df = df.where(np.triu(np.ones(df.shape)).astype(np.bool))\n",
    "df = df.stack().reset_index()\n",
    "df.columns = ['Row','Column','Value']"
   ]
  },
  {
   "cell_type": "code",
   "execution_count": 226,
   "id": "bronze-angola",
   "metadata": {},
   "outputs": [],
   "source": [
    "df.to_parquet('../../data/intermediate/schaefer_200_distance.parquet')"
   ]
  }
 ],
 "metadata": {
  "kernelspec": {
   "display_name": "Python 3",
   "language": "python",
   "name": "python3"
  },
  "language_info": {
   "codemirror_mode": {
    "name": "ipython",
    "version": 3
   },
   "file_extension": ".py",
   "mimetype": "text/x-python",
   "name": "python",
   "nbconvert_exporter": "python",
   "pygments_lexer": "ipython3",
   "version": "3.8.0"
  }
 },
 "nbformat": 4,
 "nbformat_minor": 5
}
