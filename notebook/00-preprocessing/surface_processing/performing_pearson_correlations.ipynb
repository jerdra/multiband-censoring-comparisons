{
 "cells": [
  {
   "cell_type": "code",
   "execution_count": 1,
   "id": "frequent-butterfly",
   "metadata": {},
   "outputs": [],
   "source": [
    "import os\n",
    "import numpy as np\n",
    "import nibabel as nib\n",
    "from nibabel.cifti2 import Cifti2Image, cifti2_axes\n",
    "import pandas as pd"
   ]
  },
  {
   "cell_type": "code",
   "execution_count": 2,
   "id": "informed-payday",
   "metadata": {},
   "outputs": [
    {
     "name": "stderr",
     "output_type": "stream",
     "text": [
      "pixdim[1,2,3] should be non-zero; setting 0 dims to 1\n"
     ]
    }
   ],
   "source": [
    "dtseries = nib.load(\n",
    "    '/scratch/jjeyachandra/multiband-censoring-comparisons/output/sub-LA1LA10032_ses-01_task-rest_run-1_space-MNI152NLin2009cAsym_desc-powers_cleaned.dtseries.nii'\n",
    ")\n",
    "\n",
    "\n",
    "dlabel = nib.load(\n",
    "    '../../data/atlases/schaefer_2018/Schaefer2018_200Parcels_17Networks_order.dlabel.nii'\n",
    ")"
   ]
  },
  {
   "cell_type": "code",
   "execution_count": 3,
   "id": "consistent-handy",
   "metadata": {},
   "outputs": [],
   "source": [
    "ax_brain_ser = dtseries.header.get_axis(1)"
   ]
  },
  {
   "cell_type": "code",
   "execution_count": 4,
   "id": "running-productivity",
   "metadata": {},
   "outputs": [
    {
     "data": {
      "text/plain": [
       "(91, 109, 91)"
      ]
     },
     "execution_count": 4,
     "metadata": {},
     "output_type": "execute_result"
    }
   ],
   "source": [
    "ax_brain_ser.volume_shape"
   ]
  },
  {
   "cell_type": "code",
   "execution_count": 5,
   "id": "floating-marriage",
   "metadata": {},
   "outputs": [],
   "source": [
    "ax_label = dlabel.header.get_axis(0)\n",
    "ax_brain_label = dlabel.header.get_axis(1)"
   ]
  },
  {
   "cell_type": "markdown",
   "id": "textile-grocery",
   "metadata": {},
   "source": [
    "Step 1: Match the dtseries/dlabel brain structures"
   ]
  },
  {
   "cell_type": "code",
   "execution_count": 6,
   "id": "ultimate-adult",
   "metadata": {},
   "outputs": [],
   "source": [
    "# We need to construct our matrix first which will collapse\n",
    "# the time-series axis and brain model axis into P x P"
   ]
  },
  {
   "cell_type": "code",
   "execution_count": 7,
   "id": "subtle-scope",
   "metadata": {},
   "outputs": [],
   "source": [
    "# Match brain models\n",
    "matched_structs = [\n",
    "    (dstruct, dslice, tslice) for dstruct, dslice, _\n",
    "    in ax_brain_label.iter_structures()\n",
    "    for tstruct, tslice, _\n",
    "    in ax_brain_ser.iter_structures()\n",
    "    if dstruct == tstruct\n",
    "]"
   ]
  },
  {
   "cell_type": "markdown",
   "id": "insured-healing",
   "metadata": {},
   "source": [
    "Using slices is incorrect. Need to use vertex mapping!"
   ]
  },
  {
   "cell_type": "code",
   "execution_count": 8,
   "id": "filled-stanley",
   "metadata": {},
   "outputs": [
    {
     "name": "stdout",
     "output_type": "stream",
     "text": [
      "CIFTI_STRUCTURE_CORTEX_LEFT slice(0, 32492, None) slice(0, 29696, None)\n"
     ]
    },
    {
     "data": {
      "text/plain": [
       "(29696,)"
      ]
     },
     "execution_count": 8,
     "metadata": {},
     "output_type": "execute_result"
    }
   ],
   "source": [
    "struct, dsl, tsl = matched_structs[0]\n",
    "vtsl = ax_brain_ser.vertex[tsl]\n",
    "print(struct, dsl, tsl)\n",
    "vtsl.shape"
   ]
  },
  {
   "cell_type": "code",
   "execution_count": 9,
   "id": "young-photographer",
   "metadata": {},
   "outputs": [],
   "source": [
    "# Using tsl, pull information from dlabel\n",
    "ser = dtseries.get_fdata()\n",
    "lbl = dlabel.get_fdata().astype(int)"
   ]
  },
  {
   "cell_type": "code",
   "execution_count": 10,
   "id": "instrumental-times",
   "metadata": {},
   "outputs": [],
   "source": [
    "# Perform argsort\n",
    "lbl_order = np.argsort(lbl[:,vtsl])[0]\n",
    "lbl_slice = lbl[:,vtsl][:,lbl_order]\n",
    "ser_slice = ser[:,tsl][:,lbl_order]"
   ]
  },
  {
   "cell_type": "code",
   "execution_count": 11,
   "id": "fiscal-swing",
   "metadata": {},
   "outputs": [],
   "source": [
    "# Get index groupings and split\n",
    "lbl_ids, lbl_inds = np.unique(lbl_slice, return_index=True)\n",
    "arrs = np.split(ser_slice.T, lbl_inds[1:])"
   ]
  },
  {
   "cell_type": "code",
   "execution_count": 12,
   "id": "vocational-singing",
   "metadata": {},
   "outputs": [],
   "source": [
    "# Write into meants\n",
    "zts = np.empty((lbl_ids.shape[0], dtseries.shape[0]))\n",
    "\n",
    "# Write standardized ts\n",
    "for i, a in enumerate(arrs):\n",
    "    meants = a.mean(axis=0)\n",
    "    zts[i] =(meants - meants.mean()) / meants.std()"
   ]
  },
  {
   "cell_type": "code",
   "execution_count": 13,
   "id": "separated-mortality",
   "metadata": {},
   "outputs": [],
   "source": [
    "# Compute pearson correlation matrix\n",
    "R = (zts @ zts.T)\n",
    "R /= R[0,0]"
   ]
  },
  {
   "cell_type": "code",
   "execution_count": 14,
   "id": "sustainable-aging",
   "metadata": {},
   "outputs": [
    {
     "data": {
      "text/plain": [
       "array([{0: ('???', (1.0, 1.0, 1.0, 0.0)), 1: ('17Networks_LH_VisCent_ExStr_1', (0.470588, 0.0705882, 0.52549, 1.0)), 2: ('17Networks_LH_VisCent_ExStr_2', (0.470588, 0.0705882, 0.533333, 1.0)), 3: ('17Networks_LH_VisCent_Striate_1', (0.470588, 0.0705882, 0.537255, 1.0)), 4: ('17Networks_LH_VisCent_ExStr_3', (0.470588, 0.0705882, 0.541176, 1.0)), 5: ('17Networks_LH_VisCent_ExStr_4', (0.470588, 0.0705882, 0.545098, 1.0)), 6: ('17Networks_LH_VisCent_ExStr_5', (0.470588, 0.0705882, 0.54902, 1.0)), 7: ('17Networks_LH_VisPeri_ExStrInf_1', (1.0, 0.00392157, 0.00392157, 1.0)), 8: ('17Networks_LH_VisPeri_ExStrInf_2', (1.0, 0.00392157, 0.00784314, 1.0)), 9: ('17Networks_LH_VisPeri_ExStrInf_3', (1.0, 0.00392157, 0.0117647, 1.0)), 10: ('17Networks_LH_VisPeri_StriCal_1', (1.0, 0.00392157, 0.0156863, 1.0)), 11: ('17Networks_LH_VisPeri_ExStrSup_1', (1.0, 0.00392157, 0.0196078, 1.0)), 12: ('17Networks_LH_VisPeri_ExStrSup_2', (1.0, 0.00392157, 0.0235294, 1.0)), 13: ('17Networks_LH_SomMotA_1', (0.27451, 0.509804, 0.698039, 1.0)), 14: ('17Networks_LH_SomMotA_2', (0.27451, 0.509804, 0.701961, 1.0)), 15: ('17Networks_LH_SomMotA_3', (0.27451, 0.509804, 0.709804, 1.0)), 16: ('17Networks_LH_SomMotA_4', (0.27451, 0.509804, 0.713726, 1.0)), 17: ('17Networks_LH_SomMotA_5', (0.27451, 0.509804, 0.717647, 1.0)), 18: ('17Networks_LH_SomMotA_6', (0.27451, 0.509804, 0.721569, 1.0)), 19: ('17Networks_LH_SomMotA_7', (0.27451, 0.509804, 0.72549, 1.0)), 20: ('17Networks_LH_SomMotA_8', (0.27451, 0.509804, 0.729412, 1.0)), 21: ('17Networks_LH_SomMotB_Aud_1', (0.168627, 0.8, 0.635294, 1.0)), 22: ('17Networks_LH_SomMotB_Aud_2', (0.168627, 0.8, 0.639216, 1.0)), 23: ('17Networks_LH_SomMotB_S2_1', (0.168627, 0.8, 0.647059, 1.0)), 24: ('17Networks_LH_SomMotB_S2_2', (0.168627, 0.8, 0.65098, 1.0)), 25: ('17Networks_LH_SomMotB_Aud_3', (0.168627, 0.8, 0.654902, 1.0)), 26: ('17Networks_LH_SomMotB_S2_3', (0.168627, 0.8, 0.658824, 1.0)), 27: ('17Networks_LH_SomMotB_Cent_1', (0.168627, 0.8, 0.662745, 1.0)), 28: ('17Networks_LH_SomMotB_Cent_2', (0.168627, 0.8, 0.666667, 1.0)), 29: ('17Networks_LH_DorsAttnA_TempOcc_1', (0.290196, 0.607843, 0.239216, 1.0)), 30: ('17Networks_LH_DorsAttnA_TempOcc_2', (0.290196, 0.607843, 0.243137, 1.0)), 31: ('17Networks_LH_DorsAttnA_ParOcc_1', (0.290196, 0.607843, 0.247059, 1.0)), 32: ('17Networks_LH_DorsAttnA_SPL_1', (0.290196, 0.611765, 0.239216, 1.0)), 33: ('17Networks_LH_DorsAttnA_SPL_2', (0.290196, 0.611765, 0.243137, 1.0)), 34: ('17Networks_LH_DorsAttnA_SPL_3', (0.290196, 0.611765, 0.247059, 1.0)), 35: ('17Networks_LH_DorsAttnB_PostC_1', (0.0, 0.462745, 0.0627451, 1.0)), 36: ('17Networks_LH_DorsAttnB_PostC_2', (0.0, 0.462745, 0.0666667, 1.0)), 37: ('17Networks_LH_DorsAttnB_PostC_3', (0.0, 0.462745, 0.0705882, 1.0)), 38: ('17Networks_LH_DorsAttnB_PostC_4', (0.0, 0.462745, 0.0745098, 1.0)), 39: ('17Networks_LH_DorsAttnB_FEF_1', (0.0, 0.466667, 0.0588235, 1.0)), 40: ('17Networks_LH_SalVentAttnA_ParOper_1', (0.768627, 0.227451, 0.984314, 1.0)), 41: ('17Networks_LH_SalVentAttnA_Ins_1', (0.768627, 0.231373, 0.984314, 1.0)), 42: ('17Networks_LH_SalVentAttnA_FrOper_1', (0.768627, 0.231373, 0.988235, 1.0)), 43: ('17Networks_LH_SalVentAttnA_FrOper_2', (0.768627, 0.231373, 0.992157, 1.0)), 44: ('17Networks_LH_SalVentAttnA_ParMed_1', (0.768627, 0.231373, 0.996078, 1.0)), 45: ('17Networks_LH_SalVentAttnA_FrMed_1', (0.772549, 0.227451, 0.984314, 1.0)), 46: ('17Networks_LH_SalVentAttnA_FrMed_2', (0.772549, 0.227451, 0.988235, 1.0)), 47: ('17Networks_LH_SalVentAttnB_IPL_1', (1.0, 0.596078, 0.839216, 1.0)), 48: ('17Networks_LH_SalVentAttnB_PFCl_1', (1.0, 0.6, 0.839216, 1.0)), 49: ('17Networks_LH_SalVentAttnB_Ins_1', (1.0, 0.6, 0.843137, 1.0)), 50: ('17Networks_LH_SalVentAttnB_PFCmp_1', (1.0, 0.592157, 0.839216, 1.0)), 51: ('17Networks_LH_LimbicB_OFC_1', (0.478431, 0.529412, 0.2, 1.0)), 52: ('17Networks_LH_LimbicB_OFC_2', (0.478431, 0.529412, 0.203922, 1.0)), 53: ('17Networks_LH_LimbicA_TempPole_1', (0.862745, 0.972549, 0.647059, 1.0)), 54: ('17Networks_LH_LimbicA_TempPole_2', (0.862745, 0.972549, 0.65098, 1.0)), 55: ('17Networks_LH_LimbicA_TempPole_3', (0.862745, 0.972549, 0.654902, 1.0)), 56: ('17Networks_LH_LimbicA_TempPole_4', (0.862745, 0.972549, 0.658824, 1.0)), 57: ('17Networks_LH_ContA_Temp_1', (0.901961, 0.580392, 0.137255, 1.0)), 58: ('17Networks_LH_ContA_IPS_1', (0.901961, 0.580392, 0.141176, 1.0)), 59: ('17Networks_LH_ContA_IPS_2', (0.901961, 0.580392, 0.145098, 1.0)), 60: ('17Networks_LH_ContA_IPS_3', (0.901961, 0.580392, 0.14902, 1.0)), 61: ('17Networks_LH_ContA_PFCd_1', (0.901961, 0.584314, 0.137255, 1.0)), 62: ('17Networks_LH_ContA_PFClv_1', (0.901961, 0.584314, 0.141176, 1.0)), 63: ('17Networks_LH_ContA_PFCl_1', (0.901961, 0.584314, 0.145098, 1.0)), 64: ('17Networks_LH_ContA_PFCl_2', (0.901961, 0.584314, 0.14902, 1.0)), 65: ('17Networks_LH_ContA_PFCl_3', (0.901961, 0.584314, 0.152941, 1.0)), 66: ('17Networks_LH_ContA_Cingm_1', (0.905882, 0.580392, 0.141176, 1.0)), 67: ('17Networks_LH_ContB_Temp_1', (0.529412, 0.196078, 0.294118, 1.0)), 68: ('17Networks_LH_ContB_IPL_1', (0.529412, 0.196078, 0.298039, 1.0)), 69: ('17Networks_LH_ContB_PFCl_1', (0.529412, 0.2, 0.298039, 1.0)), 70: ('17Networks_LH_ContB_PFClv_1', (0.533333, 0.196078, 0.294118, 1.0)), 71: ('17Networks_LH_ContB_PFClv_2', (0.533333, 0.196078, 0.298039, 1.0)), 72: ('17Networks_LH_ContC_pCun_1', (0.466667, 0.54902, 0.694118, 1.0)), 73: ('17Networks_LH_ContC_pCun_2', (0.466667, 0.54902, 0.698039, 1.0)), 74: ('17Networks_LH_ContC_Cingp_1', (0.466667, 0.54902, 0.701961, 1.0)), 75: ('17Networks_LH_DefaultA_IPL_1', (1.0, 1.0, 0.00392157, 1.0)), 76: ('17Networks_LH_DefaultA_PFCd_1', (1.0, 1.0, 0.00784314, 1.0)), 77: ('17Networks_LH_DefaultA_pCunPCC_1', (1.0, 0.996078, 0.00392157, 1.0)), 78: ('17Networks_LH_DefaultA_pCunPCC_2', (1.0, 0.996078, 0.00784314, 1.0)), 79: ('17Networks_LH_DefaultA_pCunPCC_3', (1.0, 0.996078, 0.0117647, 1.0)), 80: ('17Networks_LH_DefaultA_PFCm_1', (0.996078, 1.0, 0.00392157, 1.0)), 81: ('17Networks_LH_DefaultA_PFCm_2', (0.996078, 1.0, 0.00784314, 1.0)), 82: ('17Networks_LH_DefaultA_PFCm_3', (0.996078, 1.0, 0.0117647, 1.0)), 83: ('17Networks_LH_DefaultB_Temp_1', (0.803922, 0.243137, 0.309804, 1.0)), 84: ('17Networks_LH_DefaultB_Temp_2', (0.803922, 0.243137, 0.313726, 1.0)), 85: ('17Networks_LH_DefaultB_Temp_3', (0.803922, 0.243137, 0.317647, 1.0)), 86: ('17Networks_LH_DefaultB_Temp_4', (0.803922, 0.243137, 0.321569, 1.0)), 87: ('17Networks_LH_DefaultB_IPL_1', (0.803922, 0.243137, 0.32549, 1.0)), 88: ('17Networks_LH_DefaultB_PFCd_1', (0.803922, 0.247059, 0.309804, 1.0)), 89: ('17Networks_LH_DefaultB_PFCd_2', (0.803922, 0.247059, 0.313726, 1.0)), 90: ('17Networks_LH_DefaultB_PFCd_3', (0.803922, 0.247059, 0.317647, 1.0)), 91: ('17Networks_LH_DefaultB_PFCd_4', (0.803922, 0.247059, 0.321569, 1.0)), 92: ('17Networks_LH_DefaultB_PFCv_1', (0.807843, 0.243137, 0.309804, 1.0)), 93: ('17Networks_LH_DefaultB_PFCv_2', (0.807843, 0.243137, 0.313726, 1.0)), 94: ('17Networks_LH_DefaultB_PFCv_3', (0.807843, 0.243137, 0.317647, 1.0)), 95: ('17Networks_LH_DefaultB_PFCv_4', (0.807843, 0.243137, 0.321569, 1.0)), 96: ('17Networks_LH_DefaultC_IPL_1', (0.0, 0.0, 0.513726, 1.0)), 97: ('17Networks_LH_DefaultC_Rsp_1', (0.0, 0.0, 0.517647, 1.0)), 98: ('17Networks_LH_DefaultC_PHC_1', (0.0, 0.00392157, 0.513726, 1.0)), 99: ('17Networks_LH_TempPar_1', (0.0352941, 0.160784, 0.980392, 1.0)), 100: ('17Networks_LH_TempPar_2', (0.0352941, 0.160784, 0.984314, 1.0)), 101: ('17Networks_RH_VisCent_ExStr_1', (0.486275, 0.0745098, 0.52549, 1.0)), 102: ('17Networks_RH_VisCent_ExStr_2', (0.486275, 0.0745098, 0.533333, 1.0)), 103: ('17Networks_RH_VisCent_Striate_1', (0.486275, 0.0745098, 0.537255, 1.0)), 104: ('17Networks_RH_VisCent_ExStr_3', (0.486275, 0.0745098, 0.541176, 1.0)), 105: ('17Networks_RH_VisCent_ExStr_4', (0.486275, 0.0745098, 0.545098, 1.0)), 106: ('17Networks_RH_VisCent_ExStr_5', (0.486275, 0.0745098, 0.54902, 1.0)), 107: ('17Networks_RH_VisPeri_ExStrInf_1', (0.980392, 0.0, 0.0, 1.0)), 108: ('17Networks_RH_VisPeri_ExStrInf_2', (0.980392, 0.0, 0.00784314, 1.0)), 109: ('17Networks_RH_VisPeri_StriCal_1', (0.980392, 0.0, 0.0117647, 1.0)), 110: ('17Networks_RH_VisPeri_ExStrSup_1', (0.980392, 0.0, 0.0156863, 1.0)), 111: ('17Networks_RH_VisPeri_ExStrSup_2', (0.980392, 0.0, 0.0196078, 1.0)), 112: ('17Networks_RH_VisPeri_ExStrSup_3', (0.980392, 0.0, 0.0235294, 1.0)), 113: ('17Networks_RH_SomMotA_1', (0.290196, 0.513726, 0.694118, 1.0)), 114: ('17Networks_RH_SomMotA_2', (0.290196, 0.513726, 0.698039, 1.0)), 115: ('17Networks_RH_SomMotA_3', (0.290196, 0.513726, 0.701961, 1.0)), 116: ('17Networks_RH_SomMotA_4', (0.290196, 0.513726, 0.705882, 1.0)), 117: ('17Networks_RH_SomMotA_5', (0.290196, 0.513726, 0.713726, 1.0)), 118: ('17Networks_RH_SomMotA_6', (0.290196, 0.513726, 0.717647, 1.0)), 119: ('17Networks_RH_SomMotA_7', (0.290196, 0.513726, 0.721569, 1.0)), 120: ('17Networks_RH_SomMotA_8', (0.290196, 0.513726, 0.72549, 1.0)), 121: ('17Networks_RH_SomMotA_9', (0.290196, 0.513726, 0.729412, 1.0)), 122: ('17Networks_RH_SomMotA_10', (0.290196, 0.513726, 0.733333, 1.0)), 123: ('17Networks_RH_SomMotA_11', (0.290196, 0.513726, 0.737255, 1.0)), 124: ('17Networks_RH_SomMotB_Aud_1', (0.184314, 0.803922, 0.635294, 1.0)), 125: ('17Networks_RH_SomMotB_Aud_2', (0.184314, 0.803922, 0.639216, 1.0)), 126: ('17Networks_RH_SomMotB_S2_1', (0.184314, 0.803922, 0.647059, 1.0)), 127: ('17Networks_RH_SomMotB_S2_2', (0.184314, 0.803922, 0.65098, 1.0)), 128: ('17Networks_RH_SomMotB_S2_3', (0.184314, 0.803922, 0.654902, 1.0)), 129: ('17Networks_RH_SomMotB_S2_4', (0.184314, 0.803922, 0.658824, 1.0)), 130: ('17Networks_RH_SomMotB_Cent_1', (0.184314, 0.803922, 0.662745, 1.0)), 131: ('17Networks_RH_DorsAttnA_TempOcc_1', (0.305882, 0.611765, 0.243137, 1.0)), 132: ('17Networks_RH_DorsAttnA_ParOcc_1', (0.305882, 0.611765, 0.247059, 1.0)), 133: ('17Networks_RH_DorsAttnA_SPL_1', (0.309804, 0.607843, 0.243137, 1.0)), 134: ('17Networks_RH_DorsAttnA_SPL_2', (0.309804, 0.607843, 0.247059, 1.0)), 135: ('17Networks_RH_DorsAttnA_SPL_3', (0.309804, 0.607843, 0.25098, 1.0)), 136: ('17Networks_RH_DorsAttnA_SPL_4', (0.309804, 0.607843, 0.254902, 1.0)), 137: ('17Networks_RH_DorsAttnB_PostC_1', (0.0196078, 0.462745, 0.0627451, 1.0)), 138: ('17Networks_RH_DorsAttnB_PostC_2', (0.0196078, 0.462745, 0.0666667, 1.0)), 139: ('17Networks_RH_DorsAttnB_PostC_3', (0.0196078, 0.462745, 0.0705882, 1.0)), 140: ('17Networks_RH_DorsAttnB_PostC_4', (0.0196078, 0.462745, 0.0745098, 1.0)), 141: ('17Networks_RH_DorsAttnB_FEF_1', (0.0196078, 0.466667, 0.0588235, 1.0)), 142: ('17Networks_RH_SalVentAttnA_ParOper_1', (0.784314, 0.227451, 0.980392, 1.0)), 143: ('17Networks_RH_SalVentAttnA_PrC_1', (0.784314, 0.223529, 0.984314, 1.0)), 144: ('17Networks_RH_SalVentAttnA_Ins_1', (0.780392, 0.227451, 0.984314, 1.0)), 145: ('17Networks_RH_SalVentAttnA_Ins_2', (0.780392, 0.227451, 0.988235, 1.0)), 146: ('17Networks_RH_SalVentAttnA_FrOper_1', (0.780392, 0.227451, 0.992157, 1.0)), 147: ('17Networks_RH_SalVentAttnA_FrMed_1', (0.780392, 0.223529, 0.984314, 1.0)), 148: ('17Networks_RH_SalVentAttnA_ParMed_1', (0.780392, 0.223529, 0.988235, 1.0)), 149: ('17Networks_RH_SalVentAttnA_ParMed_2', (0.780392, 0.223529, 0.992157, 1.0)), 150: ('17Networks_RH_SalVentAttnA_FrMed_2', (0.780392, 0.223529, 0.996078, 1.0)), 151: ('17Networks_RH_SalVentAttnB_IPL_1', (0.980392, 0.596078, 0.839216, 1.0)), 152: ('17Networks_RH_SalVentAttnB_PFClv_1', (0.980392, 0.592157, 0.839216, 1.0)), 153: ('17Networks_RH_SalVentAttnB_PFCl_1', (0.980392, 0.592157, 0.843137, 1.0)), 154: ('17Networks_RH_SalVentAttnB_Ins_1', (0.980392, 0.596078, 0.843137, 1.0)), 155: ('17Networks_RH_SalVentAttnB_Ins_2', (0.980392, 0.596078, 0.847059, 1.0)), 156: ('17Networks_RH_SalVentAttnB_PFCmp_1', (0.980392, 0.6, 0.839216, 1.0)), 157: ('17Networks_RH_LimbicB_OFC_1', (0.494118, 0.529412, 0.203922, 1.0)), 158: ('17Networks_RH_LimbicB_OFC_2', (0.494118, 0.529412, 0.207843, 1.0)), 159: ('17Networks_RH_LimbicB_OFC_3', (0.494118, 0.529412, 0.211765, 1.0)), 160: ('17Networks_RH_LimbicB_OFC_4', (0.494118, 0.529412, 0.215686, 1.0)), 161: ('17Networks_RH_LimbicA_TempPole_1', (0.878431, 0.972549, 0.65098, 1.0)), 162: ('17Networks_RH_LimbicA_TempPole_2', (0.878431, 0.972549, 0.654902, 1.0)), 163: ('17Networks_RH_LimbicA_TempPole_3', (0.878431, 0.972549, 0.658824, 1.0)), 164: ('17Networks_RH_LimbicA_TempPole_4', (0.878431, 0.972549, 0.662745, 1.0)), 165: ('17Networks_RH_ContA_IPS_1', (0.917647, 0.576471, 0.137255, 1.0)), 166: ('17Networks_RH_ContA_IPS_2', (0.917647, 0.576471, 0.141176, 1.0)), 167: ('17Networks_RH_ContA_PFCd_1', (0.917647, 0.576471, 0.133333, 1.0)), 168: ('17Networks_RH_ContA_PFCl_1', (0.913725, 0.580392, 0.137255, 1.0)), 169: ('17Networks_RH_ContA_PFCl_2', (0.913725, 0.580392, 0.141176, 1.0)), 170: ('17Networks_RH_ContA_Cingm_1', (0.913725, 0.580392, 0.133333, 1.0)), 171: ('17Networks_RH_ContB_Temp_1', (0.54902, 0.2, 0.298039, 1.0)), 172: ('17Networks_RH_ContB_Temp_2', (0.54902, 0.2, 0.301961, 1.0)), 173: ('17Networks_RH_ContB_IPL_1', (0.545098, 0.196078, 0.290196, 1.0)), 174: ('17Networks_RH_ContB_IPL_2', (0.545098, 0.196078, 0.294118, 1.0)), 175: ('17Networks_RH_ContB_PFCld_1', (0.545098, 0.192157, 0.294118, 1.0)), 176: ('17Networks_RH_ContB_PFCld_2', (0.545098, 0.192157, 0.298039, 1.0)), 177: ('17Networks_RH_ContB_PFClv_1', (0.545098, 0.192157, 0.290196, 1.0)), 178: ('17Networks_RH_ContB_PFClv_2', (0.545098, 0.192157, 0.301961, 1.0)), 179: ('17Networks_RH_ContB_PFCmp_1', (0.541176, 0.196078, 0.294118, 1.0)), 180: ('17Networks_RH_ContB_PFCld_3', (0.541176, 0.196078, 0.298039, 1.0)), 181: ('17Networks_RH_ContC_pCun_1', (0.482353, 0.552941, 0.694118, 1.0)), 182: ('17Networks_RH_ContC_pCun_2', (0.482353, 0.552941, 0.698039, 1.0)), 183: ('17Networks_RH_ContC_Cingp_1', (0.482353, 0.552941, 0.701961, 1.0)), 184: ('17Networks_RH_DefaultA_IPL_1', (0.984314, 0.996078, 0.00784314, 1.0)), 185: ('17Networks_RH_DefaultA_PFCd_1', (0.984314, 1.0, 0.0117647, 1.0)), 186: ('17Networks_RH_DefaultA_pCunPCC_1', (0.984314, 0.992157, 0.00392157, 1.0)), 187: ('17Networks_RH_DefaultA_PFCm_1', (0.976471, 1.0, 0.00392157, 1.0)), 188: ('17Networks_RH_DefaultA_PFCm_2', (0.976471, 1.0, 0.00784314, 1.0)), 189: ('17Networks_RH_DefaultA_PFCm_3', (0.976471, 1.0, 0.0117647, 1.0)), 190: ('17Networks_RH_DefaultB_Temp_1', (0.823529, 0.243137, 0.313726, 1.0)), 191: ('17Networks_RH_DefaultB_AntTemp_1', (0.823529, 0.247059, 0.309804, 1.0)), 192: ('17Networks_RH_DefaultB_PFCd_1', (0.823529, 0.247059, 0.313726, 1.0)), 193: ('17Networks_RH_DefaultB_PFCv_1', (0.819608, 0.243137, 0.305882, 1.0)), 194: ('17Networks_RH_DefaultC_IPL_1', (0.0156863, 0.00392157, 0.517647, 1.0)), 195: ('17Networks_RH_DefaultC_Rsp_1', (0.0196078, 0.0, 0.513726, 1.0)), 196: ('17Networks_RH_DefaultC_PHC_1', (0.0196078, 0.0, 0.517647, 1.0)), 197: ('17Networks_RH_TempPar_1', (0.0627451, 0.188235, 1.0, 1.0)), 198: ('17Networks_RH_TempPar_2', (0.0509804, 0.160784, 0.980392, 1.0)), 199: ('17Networks_RH_TempPar_3', (0.0509804, 0.160784, 0.984314, 1.0)), 200: ('17Networks_RH_TempPar_4', (0.0509804, 0.160784, 0.988235, 1.0))}],\n",
       "      dtype=object)"
      ]
     },
     "execution_count": 14,
     "metadata": {},
     "output_type": "execute_result"
    }
   ],
   "source": [
    "ax_label.label"
   ]
  },
  {
   "cell_type": "code",
   "execution_count": 259,
   "id": "weighted-climb",
   "metadata": {},
   "outputs": [],
   "source": [
    "# Now get column names\n",
    "col_names = [\n",
    "    ax_label.label[0][i][0] for i in lbl_ids\n",
    "]"
   ]
  },
  {
   "cell_type": "code",
   "execution_count": 275,
   "id": "aerial-exploration",
   "metadata": {},
   "outputs": [],
   "source": [
    "# Construct dataframe\n",
    "df = pd.DataFrame(R, columns=col_names,\n",
    "                 index=col_names)\n"
   ]
  },
  {
   "cell_type": "code",
   "execution_count": 276,
   "id": "adaptive-passenger",
   "metadata": {},
   "outputs": [
    {
     "name": "stderr",
     "output_type": "stream",
     "text": [
      "<ipython-input-276-e19b67e5df71>:2: DeprecationWarning: `np.bool` is a deprecated alias for the builtin `bool`. To silence this warning, use `bool` by itself. Doing this will not modify any behavior and is safe. If you specifically wanted the numpy scalar type, use `np.bool_` here.\n",
      "Deprecated in NumPy 1.20; for more details and guidance: https://numpy.org/devdocs/release/1.20.0-notes.html#deprecations\n",
      "  df = df.where(np.triu(np.ones(df.shape)).astype(np.bool))\n"
     ]
    }
   ],
   "source": [
    "# Pull upper-triangular\n",
    "df = df.where(np.triu(np.ones(df.shape)).astype(np.bool))\n",
    "df = df.stack().reset_index()\n",
    "df.columns = ['Row','Column','Value']"
   ]
  },
  {
   "cell_type": "code",
   "execution_count": 277,
   "id": "tracked-working",
   "metadata": {},
   "outputs": [
    {
     "data": {
      "text/html": [
       "<div>\n",
       "<style scoped>\n",
       "    .dataframe tbody tr th:only-of-type {\n",
       "        vertical-align: middle;\n",
       "    }\n",
       "\n",
       "    .dataframe tbody tr th {\n",
       "        vertical-align: top;\n",
       "    }\n",
       "\n",
       "    .dataframe thead th {\n",
       "        text-align: right;\n",
       "    }\n",
       "</style>\n",
       "<table border=\"1\" class=\"dataframe\">\n",
       "  <thead>\n",
       "    <tr style=\"text-align: right;\">\n",
       "      <th></th>\n",
       "      <th>Row</th>\n",
       "      <th>Column</th>\n",
       "      <th>Value</th>\n",
       "    </tr>\n",
       "  </thead>\n",
       "  <tbody>\n",
       "    <tr>\n",
       "      <th>0</th>\n",
       "      <td>???</td>\n",
       "      <td>???</td>\n",
       "      <td>1.000000</td>\n",
       "    </tr>\n",
       "    <tr>\n",
       "      <th>1</th>\n",
       "      <td>???</td>\n",
       "      <td>17Networks_LH_VisCent_ExStr_1</td>\n",
       "      <td>-0.141900</td>\n",
       "    </tr>\n",
       "    <tr>\n",
       "      <th>2</th>\n",
       "      <td>???</td>\n",
       "      <td>17Networks_LH_VisCent_ExStr_2</td>\n",
       "      <td>-0.063859</td>\n",
       "    </tr>\n",
       "    <tr>\n",
       "      <th>3</th>\n",
       "      <td>???</td>\n",
       "      <td>17Networks_LH_VisCent_Striate_1</td>\n",
       "      <td>-0.061757</td>\n",
       "    </tr>\n",
       "    <tr>\n",
       "      <th>4</th>\n",
       "      <td>???</td>\n",
       "      <td>17Networks_LH_VisCent_ExStr_3</td>\n",
       "      <td>-0.171102</td>\n",
       "    </tr>\n",
       "    <tr>\n",
       "      <th>...</th>\n",
       "      <td>...</td>\n",
       "      <td>...</td>\n",
       "      <td>...</td>\n",
       "    </tr>\n",
       "    <tr>\n",
       "      <th>5146</th>\n",
       "      <td>17Networks_LH_DefaultC_PHC_1</td>\n",
       "      <td>17Networks_LH_TempPar_1</td>\n",
       "      <td>0.031803</td>\n",
       "    </tr>\n",
       "    <tr>\n",
       "      <th>5147</th>\n",
       "      <td>17Networks_LH_DefaultC_PHC_1</td>\n",
       "      <td>17Networks_LH_TempPar_2</td>\n",
       "      <td>0.088496</td>\n",
       "    </tr>\n",
       "    <tr>\n",
       "      <th>5148</th>\n",
       "      <td>17Networks_LH_TempPar_1</td>\n",
       "      <td>17Networks_LH_TempPar_1</td>\n",
       "      <td>1.000000</td>\n",
       "    </tr>\n",
       "    <tr>\n",
       "      <th>5149</th>\n",
       "      <td>17Networks_LH_TempPar_1</td>\n",
       "      <td>17Networks_LH_TempPar_2</td>\n",
       "      <td>0.636917</td>\n",
       "    </tr>\n",
       "    <tr>\n",
       "      <th>5150</th>\n",
       "      <td>17Networks_LH_TempPar_2</td>\n",
       "      <td>17Networks_LH_TempPar_2</td>\n",
       "      <td>1.000000</td>\n",
       "    </tr>\n",
       "  </tbody>\n",
       "</table>\n",
       "<p>5151 rows × 3 columns</p>\n",
       "</div>"
      ],
      "text/plain": [
       "                               Row                           Column     Value\n",
       "0                              ???                              ???  1.000000\n",
       "1                              ???    17Networks_LH_VisCent_ExStr_1 -0.141900\n",
       "2                              ???    17Networks_LH_VisCent_ExStr_2 -0.063859\n",
       "3                              ???  17Networks_LH_VisCent_Striate_1 -0.061757\n",
       "4                              ???    17Networks_LH_VisCent_ExStr_3 -0.171102\n",
       "...                            ...                              ...       ...\n",
       "5146  17Networks_LH_DefaultC_PHC_1          17Networks_LH_TempPar_1  0.031803\n",
       "5147  17Networks_LH_DefaultC_PHC_1          17Networks_LH_TempPar_2  0.088496\n",
       "5148       17Networks_LH_TempPar_1          17Networks_LH_TempPar_1  1.000000\n",
       "5149       17Networks_LH_TempPar_1          17Networks_LH_TempPar_2  0.636917\n",
       "5150       17Networks_LH_TempPar_2          17Networks_LH_TempPar_2  1.000000\n",
       "\n",
       "[5151 rows x 3 columns]"
      ]
     },
     "execution_count": 277,
     "metadata": {},
     "output_type": "execute_result"
    }
   ],
   "source": [
    "df"
   ]
  },
  {
   "cell_type": "markdown",
   "id": "arabic-albania",
   "metadata": {},
   "source": [
    "This is within hemisphere but generalizing to both hemispheres and capturing inter-hemisphere connectivity is trivial"
   ]
  }
 ],
 "metadata": {
  "kernelspec": {
   "display_name": "Python 3",
   "language": "python",
   "name": "python3"
  },
  "language_info": {
   "codemirror_mode": {
    "name": "ipython",
    "version": 3
   },
   "file_extension": ".py",
   "mimetype": "text/x-python",
   "name": "python",
   "nbconvert_exporter": "python",
   "pygments_lexer": "ipython3",
   "version": "3.8.0"
  }
 },
 "nbformat": 4,
 "nbformat_minor": 5
}
