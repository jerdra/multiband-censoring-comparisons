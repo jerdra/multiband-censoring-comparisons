{
 "cells": [
  {
   "cell_type": "markdown",
   "id": "applicable-parking",
   "metadata": {},
   "source": [
    "# 02 | Testing Simulated Data\n",
    "\n",
    "In this notebook we generate a composition of sinusoidal waves perturbed by random noise and attempt to perform:\n",
    "\n",
    "- Confound cleaning using one of the sinusoidal terms implicit in the model\n",
    "- Implement a fake FD trace to perform censoring and interpolation with\n",
    "- Perform end-to-end cleaning of data"
   ]
  },
  {
   "cell_type": "markdown",
   "id": "committed-format",
   "metadata": {},
   "source": [
    "We'll need to evaluate the following criteria using simulated data:\n",
    "\n",
    "1. The base censoring method, are islands of continguous time-points removed?\n",
    "2. Interpolation methods, do interpolations produce reasonable estimates of the data\n",
    "3. Discrete basis methods, do the design matrices produce the correct frequencies to regress?"
   ]
  },
  {
   "cell_type": "markdown",
   "id": "innovative-presentation",
   "metadata": {},
   "source": [
    "## BEFORE PROCEEDING:\n",
    "\n",
    "Interfaces need to be refactored to be able to query each step of the process rather than to perform all steps in one monolithic function"
   ]
  },
  {
   "cell_type": "code",
   "execution_count": null,
   "id": "isolated-upper",
   "metadata": {},
   "outputs": [],
   "source": []
  }
 ],
 "metadata": {
  "kernelspec": {
   "display_name": "Python 3",
   "language": "python",
   "name": "python3"
  },
  "language_info": {
   "codemirror_mode": {
    "name": "ipython",
    "version": 3
   },
   "file_extension": ".py",
   "mimetype": "text/x-python",
   "name": "python",
   "nbconvert_exporter": "python",
   "pygments_lexer": "ipython3",
   "version": "3.8.0"
  }
 },
 "nbformat": 4,
 "nbformat_minor": 5
}
