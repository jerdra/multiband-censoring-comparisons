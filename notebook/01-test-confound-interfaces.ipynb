{
 "cells": [
  {
   "cell_type": "code",
   "execution_count": 1,
   "id": "correct-routine",
   "metadata": {},
   "outputs": [],
   "source": [
    "import copy\n",
    "import nilearn.image as nimg\n",
    "import pandas as pd\n",
    "from confounds import censor_method\n",
    "import importlib"
   ]
  },
  {
   "cell_type": "code",
   "execution_count": 2,
   "id": "sudden-camcorder",
   "metadata": {},
   "outputs": [],
   "source": [
    "base_cols = [\"white_matter\",\"csf\",\"global_signal\"]\n",
    "sq = True\n",
    "deriv = True\n",
    "sqderiv = True"
   ]
  },
  {
   "cell_type": "code",
   "execution_count": 3,
   "id": "asian-configuration",
   "metadata": {},
   "outputs": [],
   "source": [
    "all_cols = copy.copy(base_cols)\n",
    "if sq:\n",
    "    all_cols += [f\"{f}_power2\" for f in base_cols]\n",
    "    \n",
    "if deriv:\n",
    "    all_cols += [f\"{f}_derivative1\" for f in base_cols]\n",
    "    \n",
    "if sqderiv:\n",
    "    all_cols += [f\"{f}_derivative1_power2\" for f in base_cols]"
   ]
  },
  {
   "cell_type": "code",
   "execution_count": 4,
   "id": "documentary-surname",
   "metadata": {},
   "outputs": [],
   "source": [
    "clean_dict = {\n",
    "    \"--cf-cols\": ','.join(all_cols),\n",
    "    \"detrend\": True, \"standardize\": True,\n",
    "    \"low_pass\": 0.08,\n",
    "    \"high_pass\": 0.009\n",
    "}"
   ]
  },
  {
   "cell_type": "code",
   "execution_count": 5,
   "id": "unauthorized-indicator",
   "metadata": {},
   "outputs": [],
   "source": [
    "# Load in data!\n",
    "func = '../data/debugging_data/sub-LA1LA10056_ses-01_task-rest_run-1_space-T1w_desc-preproc_bold.nii.gz'\n",
    "conf = '../data/debugging_data/sub-LA1LA10056_ses-01_task-rest_run-1_desc-confounds_timeseries.tsv'\n",
    "fimg = nimg.load_img(func)\n",
    "c_df = pd.read_csv(conf, delimiter=\"\\t\")"
   ]
  },
  {
   "cell_type": "code",
   "execution_count": 6,
   "id": "partial-joseph",
   "metadata": {},
   "outputs": [
    {
     "data": {
      "text/plain": [
       "<module 'confounds.censor_method' from '/mnt/tigrlab/projects/jjeyachandra/multiband-censoring-comparisons/confounds/censor_method.py'>"
      ]
     },
     "execution_count": 6,
     "metadata": {},
     "output_type": "execute_result"
    }
   ],
   "source": [
    "importlib.reload(censor_method)"
   ]
  },
  {
   "cell_type": "markdown",
   "id": "empirical-disposal",
   "metadata": {},
   "source": [
    "Test whether all censor interfaces can run"
   ]
  },
  {
   "cell_type": "code",
   "execution_count": 7,
   "id": "grave-engineer",
   "metadata": {},
   "outputs": [
    {
     "data": {
      "text/plain": [
       "<nibabel.nifti1.Nifti1Image at 0x7fa121d69ac0>"
      ]
     },
     "execution_count": 7,
     "metadata": {},
     "output_type": "execute_result"
    }
   ],
   "source": [
    "base_censor = censor_method.BaseClean(clean_dict)\n",
    "base_censor.transform(fimg, c_df)"
   ]
  },
  {
   "cell_type": "code",
   "execution_count": 8,
   "id": "natural-mobility",
   "metadata": {},
   "outputs": [
    {
     "data": {
      "text/plain": [
       "<nibabel.nifti1.Nifti1Image at 0x7fa121d69bb0>"
      ]
     },
     "execution_count": 8,
     "metadata": {},
     "output_type": "execute_result"
    }
   ],
   "source": [
    "powers_censor = censor_method.PowersClean(clean_dict)\n",
    "powers_censor.transform(fimg, c_df)"
   ]
  },
  {
   "cell_type": "code",
   "execution_count": 9,
   "id": "narrative-receiver",
   "metadata": {},
   "outputs": [
    {
     "data": {
      "text/plain": [
       "<nibabel.nifti1.Nifti1Image at 0x7fa121d86ac0>"
      ]
     },
     "execution_count": 9,
     "metadata": {},
     "output_type": "execute_result"
    }
   ],
   "source": [
    "lpowers_censor = censor_method.LindquistPowersClean(clean_dict)\n",
    "lpowers_censor.transform(fimg, c_df)"
   ]
  },
  {
   "cell_type": "code",
   "execution_count": 10,
   "id": "improved-alexander",
   "metadata": {},
   "outputs": [
    {
     "data": {
      "text/plain": [
       "<nibabel.nifti1.Nifti1Image at 0x7fa0dc8d93a0>"
      ]
     },
     "execution_count": 10,
     "metadata": {},
     "output_type": "execute_result"
    }
   ],
   "source": [
    "dct_censor = censor_method.DCTBasisClean(clean_dict)\n",
    "dct_censor.transform(fimg, c_df)"
   ]
  },
  {
   "cell_type": "code",
   "execution_count": 11,
   "id": "elegant-allah",
   "metadata": {},
   "outputs": [
    {
     "data": {
      "text/plain": [
       "<nibabel.nifti1.Nifti1Image at 0x7fa0dc8d92e0>"
      ]
     },
     "execution_count": 11,
     "metadata": {},
     "output_type": "execute_result"
    }
   ],
   "source": [
    "fourier_censor = censor_method.FourierBasisClean(clean_dict)\n",
    "fourier_censor.transform(fimg, c_df)"
   ]
  }
 ],
 "metadata": {
  "kernelspec": {
   "display_name": "Python 3",
   "language": "python",
   "name": "python3"
  },
  "language_info": {
   "codemirror_mode": {
    "name": "ipython",
    "version": 3
   },
   "file_extension": ".py",
   "mimetype": "text/x-python",
   "name": "python",
   "nbconvert_exporter": "python",
   "pygments_lexer": "ipython3",
   "version": "3.8.0"
  }
 },
 "nbformat": 4,
 "nbformat_minor": 5
}
