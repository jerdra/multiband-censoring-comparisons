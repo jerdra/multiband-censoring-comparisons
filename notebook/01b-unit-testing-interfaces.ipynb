{
 "cells": [
  {
   "cell_type": "code",
   "execution_count": 5,
   "id": "athletic-decrease",
   "metadata": {},
   "outputs": [],
   "source": [
    "import copy\n",
    "import nilearn.image as nimg\n",
    "import pandas as pd\n",
    "from confounds import censor_method\n",
    "import importlib\n",
    "import nibabel as nib\n",
    "import numpy as np"
   ]
  },
  {
   "cell_type": "code",
   "execution_count": 2,
   "id": "damaged-peninsula",
   "metadata": {},
   "outputs": [],
   "source": [
    "base_cols = [\"white_matter\",\"csf\",\"global_signal\"]\n",
    "sq = True\n",
    "deriv = True\n",
    "sqderiv = True\n",
    "\n",
    "all_cols = copy.copy(base_cols)\n",
    "if sq:\n",
    "    all_cols += [f\"{f}_power2\" for f in base_cols]\n",
    "    \n",
    "if deriv:\n",
    "    all_cols += [f\"{f}_derivative1\" for f in base_cols]\n",
    "    \n",
    "if sqderiv:\n",
    "    all_cols += [f\"{f}_derivative1_power2\" for f in base_cols]\n",
    "    \n",
    "clean_dict = {\n",
    "    \"--cf-cols\": ','.join(all_cols),\n",
    "    \"detrend\": True, \"standardize\": True,\n",
    "    \"low_pass\": 0.08,\n",
    "    \"high_pass\": 0.009\n",
    "}"
   ]
  },
  {
   "cell_type": "markdown",
   "id": "enabling-abortion",
   "metadata": {},
   "source": [
    "## Testing Utility Functions"
   ]
  },
  {
   "cell_type": "markdown",
   "id": "christian-wireless",
   "metadata": {},
   "source": [
    "`_get_vol_index`"
   ]
  },
  {
   "cell_type": "code",
   "execution_count": 10,
   "id": "parental-lobby",
   "metadata": {},
   "outputs": [],
   "source": [
    "data = np.zeros((10,10,10,10))\n",
    "nifti = nib.Nifti1Image(data, np.eye(4))\n",
    "indices = np.array([0,1,2,3])\n",
    "res = censor_method._get_vol_index(nifti, indices)\n",
    "\n",
    "assert res.shape[-1] == len(indices)"
   ]
  },
  {
   "cell_type": "markdown",
   "id": "alert-algorithm",
   "metadata": {},
   "source": [
    "`_image_to_signals`"
   ]
  },
  {
   "cell_type": "code",
   "execution_count": 11,
   "id": "arranged-sacramento",
   "metadata": {},
   "outputs": [],
   "source": [
    "data = np.zeros((10, 10, 10, 10))\n",
    "nifti = nib.Nifti1Image(data, np.eye(4))\n",
    "res = censor_method._image_to_signals(nifti)\n",
    "expected_dim = (10*10*10, 10)\n",
    "assert res.shape == expected_dim"
   ]
  },
  {
   "cell_type": "markdown",
   "id": "gross-version",
   "metadata": {},
   "source": [
    "`_clear_steady_state` when `confounds` passed"
   ]
  },
  {
   "cell_type": "code",
   "execution_count": 29,
   "id": "killing-ability",
   "metadata": {},
   "outputs": [],
   "source": [
    "data = np.zeros((10, 10, 10, 10))\n",
    "nifti = nib.Nifti1Image(data, np.eye(4))\n",
    "\n",
    "# Construct steady_state dummy columns\n",
    "steady_state = pd.Series(np.arange(10) + 1)\n",
    "steady_state[5:] = 0\n",
    "confounds = pd.DataFrame(steady_state, columns=[\"steady\"])\n",
    "confounds = pd.get_dummies(confounds, columns=[\"steady\"])\n",
    "confounds.drop('steady_0', inplace=True, axis=1)\n",
    "\n",
    "res_img, res_conf  = censor_method._clear_steady_state(nifti, confounds)\n",
    "\n",
    "\n",
    "assert res_img.shape[-1] == 5\n",
    "assert res_conf.shape[0] == 5"
   ]
  },
  {
   "cell_type": "markdown",
   "id": "earlier-understanding",
   "metadata": {},
   "source": [
    "`_clear_steady_state` when `drop_trs` passed"
   ]
  },
  {
   "cell_type": "code",
   "execution_count": 30,
   "id": "saving-honolulu",
   "metadata": {},
   "outputs": [],
   "source": [
    "data = np.zeros((10, 10, 10, 10))\n",
    "nifti = nib.Nifti1Image(data, np.eye(4))\n",
    "\n",
    "# Construct steady_state dummy columns\n",
    "steady_state = pd.Series(np.arange(10) + 1)\n",
    "steady_state[5:] = 0\n",
    "confounds = pd.DataFrame(steady_state, columns=[\"steady\"])\n",
    "confounds = pd.get_dummies(confounds, columns=[\"steady\"])\n",
    "confounds.drop('steady_0', inplace=True, axis=1)\n",
    "\n",
    "res_img, res_conf = censor_method._clear_steady_state(nifti, confounds,\n",
    "                                                     drop_trs=2)\n",
    "\n",
    "assert res_img.shape[-1] == 8\n",
    "assert res_conf.shape[0] == 8"
   ]
  },
  {
   "cell_type": "markdown",
   "id": "given-sheet",
   "metadata": {},
   "source": [
    "`_clear_steady_state` fails when steady columns not supplied"
   ]
  },
  {
   "cell_type": "code",
   "execution_count": 34,
   "id": "governmental-protection",
   "metadata": {},
   "outputs": [
    {
     "name": "stderr",
     "output_type": "stream",
     "text": [
      "04/07/2021 12:57:31 PM drop_trs not supplied and steady_state volumes not found in confounds file!\n"
     ]
    },
    {
     "ename": "ValueError",
     "evalue": "",
     "output_type": "error",
     "traceback": [
      "\u001b[0;31m---------------------------------------------------------------------------\u001b[0m",
      "\u001b[0;31mValueError\u001b[0m                                Traceback (most recent call last)",
      "\u001b[0;32m<ipython-input-34-aa226bb6f514>\u001b[0m in \u001b[0;36m<module>\u001b[0;34m\u001b[0m\n\u001b[1;32m      8\u001b[0m \u001b[0mconfounds\u001b[0m \u001b[0;34m=\u001b[0m \u001b[0mpd\u001b[0m\u001b[0;34m.\u001b[0m\u001b[0mget_dummies\u001b[0m\u001b[0;34m(\u001b[0m\u001b[0mconfounds\u001b[0m\u001b[0;34m,\u001b[0m \u001b[0mcolumns\u001b[0m\u001b[0;34m=\u001b[0m\u001b[0;34m[\u001b[0m\u001b[0;34m\"a\"\u001b[0m\u001b[0;34m]\u001b[0m\u001b[0;34m)\u001b[0m\u001b[0;34m\u001b[0m\u001b[0;34m\u001b[0m\u001b[0m\n\u001b[1;32m      9\u001b[0m \u001b[0;34m\u001b[0m\u001b[0m\n\u001b[0;32m---> 10\u001b[0;31m \u001b[0mres_img\u001b[0m\u001b[0;34m,\u001b[0m \u001b[0mres_conf\u001b[0m \u001b[0;34m=\u001b[0m \u001b[0mcensor_method\u001b[0m\u001b[0;34m.\u001b[0m\u001b[0m_clear_steady_state\u001b[0m\u001b[0;34m(\u001b[0m\u001b[0mnifti\u001b[0m\u001b[0;34m,\u001b[0m \u001b[0mconfounds\u001b[0m\u001b[0;34m)\u001b[0m\u001b[0;34m\u001b[0m\u001b[0;34m\u001b[0m\u001b[0m\n\u001b[0m",
      "\u001b[0;32m/mnt/tigrlab/projects/jjeyachandra/multiband-censoring-comparisons/confounds/censor_method.py\u001b[0m in \u001b[0;36m_clear_steady_state\u001b[0;34m(img, confounds, drop_trs)\u001b[0m\n\u001b[1;32m    370\u001b[0m             logging.error(\"drop_trs not supplied and steady_state volumes not\"\n\u001b[1;32m    371\u001b[0m                           \" found in confounds file!\")\n\u001b[0;32m--> 372\u001b[0;31m             \u001b[0;32mraise\u001b[0m \u001b[0mValueError\u001b[0m\u001b[0;34m\u001b[0m\u001b[0;34m\u001b[0m\u001b[0m\n\u001b[0m\u001b[1;32m    373\u001b[0m \u001b[0;34m\u001b[0m\u001b[0m\n\u001b[1;32m    374\u001b[0m     \u001b[0;31m# Construct new image object\u001b[0m\u001b[0;34m\u001b[0m\u001b[0;34m\u001b[0m\u001b[0;34m\u001b[0m\u001b[0m\n",
      "\u001b[0;31mValueError\u001b[0m: "
     ]
    }
   ],
   "source": [
    "data = np.zeros((10, 10, 10, 10))\n",
    "nifti = nib.Nifti1Image(data, np.eye(4))\n",
    "\n",
    "# Construct steady_state dummy columns\n",
    "steady_state = pd.Series(np.arange(10) + 1)\n",
    "steady_state[5:] = 0\n",
    "confounds = pd.DataFrame(steady_state, columns=[\"a\"])\n",
    "confounds = pd.get_dummies(confounds, columns=[\"a\"])\n",
    "\n",
    "res_img, res_conf = censor_method._clear_steady_state(nifti, confounds)"
   ]
  },
  {
   "cell_type": "markdown",
   "id": "latin-wrong",
   "metadata": {},
   "source": [
    "`_interpolate_frames` returns Nifti1Image of correct size when run"
   ]
  },
  {
   "cell_type": "code",
   "execution_count": 44,
   "id": "jewish-league",
   "metadata": {},
   "outputs": [],
   "source": [
    "data = np.random.uniform(size=(10, 10, 10, 10))\n",
    "nifti = nib.Nifti1Image(data, np.eye(4))\n",
    "\n",
    "mask = np.array([0,1,2,3,7,8,9])\n",
    "censor = np.array([4,5,6])\n",
    "\n",
    "res_img = censor_method._interpolate_frames(nifti, mask, censor, t_r=2)\n",
    "\n",
    "assert res_img.shape == nifti.shape\n",
    "assert isinstance(res_img, nib.Nifti1Image)"
   ]
  },
  {
   "cell_type": "markdown",
   "id": "ordinary-literature",
   "metadata": {},
   "source": [
    "`_interpolate_frames` returns np.ndarray of correct size when run"
   ]
  },
  {
   "cell_type": "code",
   "execution_count": 47,
   "id": "prepared-tunisia",
   "metadata": {},
   "outputs": [],
   "source": [
    "data = np.random.uniform(size=(10*10*10, 10))\n",
    "\n",
    "mask = np.array([0,1,2,3,7,8,9])\n",
    "censor = np.array([4,5,6])\n",
    "\n",
    "res_img = censor_method._interpolate_frames(data, mask, censor, t_r=2)\n",
    "\n",
    "assert res_img.shape == data.shape\n",
    "assert isinstance(res_img, np.ndarray)"
   ]
  },
  {
   "cell_type": "markdown",
   "id": "living-mistake",
   "metadata": {},
   "source": [
    "`_interpolate_frames` leaves masked values unchanged"
   ]
  },
  {
   "cell_type": "code",
   "execution_count": 49,
   "id": "dental-general",
   "metadata": {},
   "outputs": [],
   "source": [
    "data = np.random.uniform(size=(10*10*10, 10))\n",
    "\n",
    "mask = np.array([0,1,2,3,7,8,9])\n",
    "censor = np.array([4,5,6])\n",
    "\n",
    "res_img = censor_method._interpolate_frames(data, mask, censor, t_r=2)\n",
    "\n",
    "assert np.array_equal(res_img[:, mask], data[:, mask])"
   ]
  }
 ],
 "metadata": {
  "kernelspec": {
   "display_name": "Python 3",
   "language": "python",
   "name": "python3"
  },
  "language_info": {
   "codemirror_mode": {
    "name": "ipython",
    "version": 3
   },
   "file_extension": ".py",
   "mimetype": "text/x-python",
   "name": "python",
   "nbconvert_exporter": "python",
   "pygments_lexer": "ipython3",
   "version": "3.8.0"
  }
 },
 "nbformat": 4,
 "nbformat_minor": 5
}
