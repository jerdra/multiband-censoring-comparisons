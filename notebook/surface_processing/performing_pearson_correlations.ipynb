{
 "cells": [
  {
   "cell_type": "code",
   "execution_count": 171,
   "id": "frequent-butterfly",
   "metadata": {},
   "outputs": [],
   "source": [
    "import os\n",
    "import numpy as np\n",
    "import nibabel as nib\n",
    "from nibabel.cifti2 import Cifti2Image, cifti2_axes\n",
    "import pandas as pd"
   ]
  },
  {
   "cell_type": "code",
   "execution_count": 5,
   "id": "informed-payday",
   "metadata": {},
   "outputs": [
    {
     "name": "stderr",
     "output_type": "stream",
     "text": [
      "pixdim[1,2,3] should be non-zero; setting 0 dims to 1\n"
     ]
    }
   ],
   "source": [
    "dtseries = nib.load(\n",
    "    '/scratch/jjeyachandra/multiband-censoring-comparisons/output/sub-LA1LA10032_ses-01_task-rest_run-1_space-MNI152NLin2009cAsym_desc-powers_cleaned.dtseries.nii'\n",
    ")\n",
    "\n",
    "\n",
    "dlabel = nib.load(\n",
    "    '../../data/atlases/schaefer_2018/Schaefer2018_200Parcels_17Networks_order.dlabel.nii'\n",
    ")"
   ]
  },
  {
   "cell_type": "code",
   "execution_count": 19,
   "id": "consistent-handy",
   "metadata": {},
   "outputs": [],
   "source": [
    "ax_brain_ser = dtseries.header.get_axis(1)"
   ]
  },
  {
   "cell_type": "code",
   "execution_count": 208,
   "id": "running-productivity",
   "metadata": {},
   "outputs": [
    {
     "data": {
      "text/plain": [
       "(91, 109, 91)"
      ]
     },
     "execution_count": 208,
     "metadata": {},
     "output_type": "execute_result"
    }
   ],
   "source": [
    "ax_brain_ser.volume_shape"
   ]
  },
  {
   "cell_type": "code",
   "execution_count": 9,
   "id": "floating-marriage",
   "metadata": {},
   "outputs": [],
   "source": [
    "ax_label = dlabel.header.get_axis(0)\n",
    "ax_brain_label = dlabel.header.get_axis(1)"
   ]
  },
  {
   "cell_type": "markdown",
   "id": "textile-grocery",
   "metadata": {},
   "source": [
    "Step 1: Match the dtseries/dlabel brain structures"
   ]
  },
  {
   "cell_type": "code",
   "execution_count": 24,
   "id": "ultimate-adult",
   "metadata": {},
   "outputs": [
    {
     "data": {
      "text/plain": [
       "[('CIFTI_STRUCTURE_CORTEX_RIGHT',\n",
       "  slice(0, None, None),\n",
       "  <nibabel.cifti2.cifti2_axes.BrainModelAxis at 0x7f420c77e550>)]"
      ]
     },
     "execution_count": 24,
     "metadata": {},
     "output_type": "execute_result"
    }
   ],
   "source": [
    "# We need to construct our matrix first which will collapse\n",
    "# the time-series axis and brain model axis into P x P"
   ]
  },
  {
   "cell_type": "code",
   "execution_count": 33,
   "id": "subtle-scope",
   "metadata": {},
   "outputs": [],
   "source": [
    "# Match brain models\n",
    "matched_structs = [\n",
    "    (dstruct, dslice, tslice) for dstruct, dslice, _\n",
    "    in ax_brain_label.iter_structures()\n",
    "    for tstruct, tslice, _\n",
    "    in ax_brain_ser.iter_structures()\n",
    "    if dstruct == tstruct\n",
    "]"
   ]
  },
  {
   "cell_type": "markdown",
   "id": "insured-healing",
   "metadata": {},
   "source": [
    "Using slices is incorrect. Need to use vertex mapping!"
   ]
  },
  {
   "cell_type": "code",
   "execution_count": 238,
   "id": "filled-stanley",
   "metadata": {},
   "outputs": [
    {
     "name": "stdout",
     "output_type": "stream",
     "text": [
      "CIFTI_STRUCTURE_CORTEX_LEFT slice(0, 32492, None) slice(0, 29696, None)\n"
     ]
    },
    {
     "data": {
      "text/plain": [
       "(29696,)"
      ]
     },
     "execution_count": 238,
     "metadata": {},
     "output_type": "execute_result"
    }
   ],
   "source": [
    "struct, dsl, tsl = matched_structs[0]\n",
    "vtsl = ax_brain_ser.vertex[tsl]\n",
    "print(struct, dsl, tsl)\n",
    "vtsl.shape"
   ]
  },
  {
   "cell_type": "code",
   "execution_count": 139,
   "id": "young-photographer",
   "metadata": {},
   "outputs": [],
   "source": [
    "# Using tsl, pull information from dlabel\n",
    "ser = dtseries.get_fdata()\n",
    "lbl = dlabel.get_fdata().astype(int)"
   ]
  },
  {
   "cell_type": "code",
   "execution_count": 248,
   "id": "instrumental-times",
   "metadata": {},
   "outputs": [],
   "source": [
    "# Perform argsort\n",
    "lbl_order = np.argsort(lbl[:,vtsl])[0]\n",
    "lbl_slice = lbl[:,vtsl][:,lbl_order]\n",
    "ser_slice = ser[:,tsl][:,lbl_order]"
   ]
  },
  {
   "cell_type": "code",
   "execution_count": 249,
   "id": "fiscal-swing",
   "metadata": {},
   "outputs": [],
   "source": [
    "# Get index groupings and split\n",
    "lbl_ids, lbl_inds = np.unique(lbl_slice, return_index=True)\n",
    "arrs = np.split(ser_slice.T, lbl_inds[1:])"
   ]
  },
  {
   "cell_type": "code",
   "execution_count": 250,
   "id": "vocational-singing",
   "metadata": {},
   "outputs": [],
   "source": [
    "# Write into meants\n",
    "zts = np.empty((lbl_ids.shape[0], dtseries.shape[0]))\n",
    "\n",
    "# Write standardized ts\n",
    "for i, a in enumerate(arrs):\n",
    "    meants = a.mean(axis=0)\n",
    "    zts[i] =(meants - meants.mean()) / meants.std()"
   ]
  },
  {
   "cell_type": "code",
   "execution_count": 251,
   "id": "separated-mortality",
   "metadata": {},
   "outputs": [],
   "source": [
    "# Compute pearson correlation matrix\n",
    "R = (zts @ zts.T)\n",
    "R /= R[0,0]"
   ]
  },
  {
   "cell_type": "code",
   "execution_count": 259,
   "id": "weighted-climb",
   "metadata": {},
   "outputs": [],
   "source": [
    "# Now get column names\n",
    "col_names = [\n",
    "    ax_label.label[0][i][0] for i in lbl_ids\n",
    "]"
   ]
  },
  {
   "cell_type": "code",
   "execution_count": 275,
   "id": "aerial-exploration",
   "metadata": {},
   "outputs": [],
   "source": [
    "# Construct dataframe\n",
    "df = pd.DataFrame(R, columns=col_names,\n",
    "                 index=col_names)\n"
   ]
  },
  {
   "cell_type": "code",
   "execution_count": 276,
   "id": "adaptive-passenger",
   "metadata": {},
   "outputs": [
    {
     "name": "stderr",
     "output_type": "stream",
     "text": [
      "<ipython-input-276-e19b67e5df71>:2: DeprecationWarning: `np.bool` is a deprecated alias for the builtin `bool`. To silence this warning, use `bool` by itself. Doing this will not modify any behavior and is safe. If you specifically wanted the numpy scalar type, use `np.bool_` here.\n",
      "Deprecated in NumPy 1.20; for more details and guidance: https://numpy.org/devdocs/release/1.20.0-notes.html#deprecations\n",
      "  df = df.where(np.triu(np.ones(df.shape)).astype(np.bool))\n"
     ]
    }
   ],
   "source": [
    "# Pull upper-triangular\n",
    "df = df.where(np.triu(np.ones(df.shape)).astype(np.bool))\n",
    "df = df.stack().reset_index()\n",
    "df.columns = ['Row','Column','Value']"
   ]
  },
  {
   "cell_type": "code",
   "execution_count": 277,
   "id": "tracked-working",
   "metadata": {},
   "outputs": [
    {
     "data": {
      "text/html": [
       "<div>\n",
       "<style scoped>\n",
       "    .dataframe tbody tr th:only-of-type {\n",
       "        vertical-align: middle;\n",
       "    }\n",
       "\n",
       "    .dataframe tbody tr th {\n",
       "        vertical-align: top;\n",
       "    }\n",
       "\n",
       "    .dataframe thead th {\n",
       "        text-align: right;\n",
       "    }\n",
       "</style>\n",
       "<table border=\"1\" class=\"dataframe\">\n",
       "  <thead>\n",
       "    <tr style=\"text-align: right;\">\n",
       "      <th></th>\n",
       "      <th>Row</th>\n",
       "      <th>Column</th>\n",
       "      <th>Value</th>\n",
       "    </tr>\n",
       "  </thead>\n",
       "  <tbody>\n",
       "    <tr>\n",
       "      <th>0</th>\n",
       "      <td>???</td>\n",
       "      <td>???</td>\n",
       "      <td>1.000000</td>\n",
       "    </tr>\n",
       "    <tr>\n",
       "      <th>1</th>\n",
       "      <td>???</td>\n",
       "      <td>17Networks_LH_VisCent_ExStr_1</td>\n",
       "      <td>-0.141900</td>\n",
       "    </tr>\n",
       "    <tr>\n",
       "      <th>2</th>\n",
       "      <td>???</td>\n",
       "      <td>17Networks_LH_VisCent_ExStr_2</td>\n",
       "      <td>-0.063859</td>\n",
       "    </tr>\n",
       "    <tr>\n",
       "      <th>3</th>\n",
       "      <td>???</td>\n",
       "      <td>17Networks_LH_VisCent_Striate_1</td>\n",
       "      <td>-0.061757</td>\n",
       "    </tr>\n",
       "    <tr>\n",
       "      <th>4</th>\n",
       "      <td>???</td>\n",
       "      <td>17Networks_LH_VisCent_ExStr_3</td>\n",
       "      <td>-0.171102</td>\n",
       "    </tr>\n",
       "    <tr>\n",
       "      <th>...</th>\n",
       "      <td>...</td>\n",
       "      <td>...</td>\n",
       "      <td>...</td>\n",
       "    </tr>\n",
       "    <tr>\n",
       "      <th>5146</th>\n",
       "      <td>17Networks_LH_DefaultC_PHC_1</td>\n",
       "      <td>17Networks_LH_TempPar_1</td>\n",
       "      <td>0.031803</td>\n",
       "    </tr>\n",
       "    <tr>\n",
       "      <th>5147</th>\n",
       "      <td>17Networks_LH_DefaultC_PHC_1</td>\n",
       "      <td>17Networks_LH_TempPar_2</td>\n",
       "      <td>0.088496</td>\n",
       "    </tr>\n",
       "    <tr>\n",
       "      <th>5148</th>\n",
       "      <td>17Networks_LH_TempPar_1</td>\n",
       "      <td>17Networks_LH_TempPar_1</td>\n",
       "      <td>1.000000</td>\n",
       "    </tr>\n",
       "    <tr>\n",
       "      <th>5149</th>\n",
       "      <td>17Networks_LH_TempPar_1</td>\n",
       "      <td>17Networks_LH_TempPar_2</td>\n",
       "      <td>0.636917</td>\n",
       "    </tr>\n",
       "    <tr>\n",
       "      <th>5150</th>\n",
       "      <td>17Networks_LH_TempPar_2</td>\n",
       "      <td>17Networks_LH_TempPar_2</td>\n",
       "      <td>1.000000</td>\n",
       "    </tr>\n",
       "  </tbody>\n",
       "</table>\n",
       "<p>5151 rows × 3 columns</p>\n",
       "</div>"
      ],
      "text/plain": [
       "                               Row                           Column     Value\n",
       "0                              ???                              ???  1.000000\n",
       "1                              ???    17Networks_LH_VisCent_ExStr_1 -0.141900\n",
       "2                              ???    17Networks_LH_VisCent_ExStr_2 -0.063859\n",
       "3                              ???  17Networks_LH_VisCent_Striate_1 -0.061757\n",
       "4                              ???    17Networks_LH_VisCent_ExStr_3 -0.171102\n",
       "...                            ...                              ...       ...\n",
       "5146  17Networks_LH_DefaultC_PHC_1          17Networks_LH_TempPar_1  0.031803\n",
       "5147  17Networks_LH_DefaultC_PHC_1          17Networks_LH_TempPar_2  0.088496\n",
       "5148       17Networks_LH_TempPar_1          17Networks_LH_TempPar_1  1.000000\n",
       "5149       17Networks_LH_TempPar_1          17Networks_LH_TempPar_2  0.636917\n",
       "5150       17Networks_LH_TempPar_2          17Networks_LH_TempPar_2  1.000000\n",
       "\n",
       "[5151 rows x 3 columns]"
      ]
     },
     "execution_count": 277,
     "metadata": {},
     "output_type": "execute_result"
    }
   ],
   "source": [
    "df"
   ]
  },
  {
   "cell_type": "markdown",
   "id": "arabic-albania",
   "metadata": {},
   "source": [
    "This is within hemisphere but generalizing to both hemispheres and capturing inter-hemisphere connectivity is trivial"
   ]
  }
 ],
 "metadata": {
  "kernelspec": {
   "display_name": "Python 3",
   "language": "python",
   "name": "python3"
  },
  "language_info": {
   "codemirror_mode": {
    "name": "ipython",
    "version": 3
   },
   "file_extension": ".py",
   "mimetype": "text/x-python",
   "name": "python",
   "nbconvert_exporter": "python",
   "pygments_lexer": "ipython3",
   "version": "3.8.0"
  }
 },
 "nbformat": 4,
 "nbformat_minor": 5
}
