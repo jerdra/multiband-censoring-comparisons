{
 "cells": [
  {
   "cell_type": "code",
   "execution_count": 1,
   "id": "applicable-classroom",
   "metadata": {},
   "outputs": [],
   "source": [
    "import nibabel as nib\n",
    "from confounds import censor_method\n",
    "import numpy as np\n",
    "import os"
   ]
  },
  {
   "cell_type": "code",
   "execution_count": 3,
   "id": "hearing-regular",
   "metadata": {},
   "outputs": [],
   "source": [
    "data = \"/scratch/jjeyachandra/niviz/data\"\n",
    "sub = \"sub-LA1LA20002\"\n",
    "space = \"MNINonLinear\"\n",
    "entities = \"ses-01_task-rest_run-1_bold\"\n",
    "\n",
    "dtseries = nib.load(\n",
    "    os.path.join(data,sub,space,'Results',\n",
    "    entities,f\"{entities}_Atlas.dtseries.nii\")\n",
    ")"
   ]
  },
  {
   "cell_type": "markdown",
   "id": "expressed-jones",
   "metadata": {},
   "source": [
    "`dataobj` contains the array data that is formatted"
   ]
  },
  {
   "cell_type": "code",
   "execution_count": 7,
   "id": "narrow-ordinary",
   "metadata": {},
   "outputs": [
    {
     "data": {
      "text/plain": [
       "(106, 91282)"
      ]
     },
     "execution_count": 7,
     "metadata": {},
     "output_type": "execute_result"
    }
   ],
   "source": [
    "dtseries.dataobj.shape"
   ]
  },
  {
   "cell_type": "markdown",
   "id": "olive-piano",
   "metadata": {},
   "source": [
    "Exploring the `cifti2_axes.Axis` object"
   ]
  },
  {
   "cell_type": "markdown",
   "id": "every-passing",
   "metadata": {},
   "source": [
    "Matches connectome workbench:\n",
    "- `axis=0` refers to the time-series rows\n",
    "- `axis=1` refers to the brain model columns"
   ]
  },
  {
   "cell_type": "code",
   "execution_count": 24,
   "id": "burning-smile",
   "metadata": {},
   "outputs": [],
   "source": [
    "series_ax = dtseries.header.get_axis(0)\n",
    "brain_ax = dtseries.header.get_axis(1)"
   ]
  },
  {
   "cell_type": "markdown",
   "id": "liable-chuck",
   "metadata": {},
   "source": [
    "In a `SeriesAxis` the following properties are defined:\n",
    "- `start` - start TR\n",
    "- `step` - TR \n",
    "- `size` - number of samples\n",
    "- `unit` - unit of samples\n",
    "\n",
    "This is mainly used for type checking, it doesn't hold any actual data!"
   ]
  },
  {
   "cell_type": "code",
   "execution_count": 23,
   "id": "olympic-hungarian",
   "metadata": {},
   "outputs": [
    {
     "data": {
      "text/plain": [
       "(0.0, 0.8, 106, 'SECOND')"
      ]
     },
     "execution_count": 23,
     "metadata": {},
     "output_type": "execute_result"
    }
   ],
   "source": [
    "series_ax.start, series_ax.step, series_ax.size, series_ax.unit"
   ]
  },
  {
   "cell_type": "markdown",
   "id": "least-estonia",
   "metadata": {},
   "source": [
    "In a `BrainModelAxis` axis we have:\n",
    "\n",
    "- `name` - which is an array with vertex --> structure mappings\n",
    "- `voxel` - (N,3) array containing voxel indices (-1,-1,-1) is used to indicate a surface point\n",
    "- `vertex` - (N,) array with similar function to `voxel` but indicating vertices instead\n",
    "- `affine` - Affine transformation mapping voxel indices\n",
    "- `volume_shape` - shape of volume component\n",
    "- `nvertices` - `{STRUCTURE: NVERTEX}` mapping"
   ]
  },
  {
   "cell_type": "code",
   "execution_count": 28,
   "id": "asian-mustang",
   "metadata": {},
   "outputs": [
    {
     "name": "stdout",
     "output_type": "stream",
     "text": [
      "['CIFTI_STRUCTURE_CORTEX_LEFT' 'CIFTI_STRUCTURE_CORTEX_LEFT'\n",
      " 'CIFTI_STRUCTURE_CORTEX_LEFT' ... 'CIFTI_STRUCTURE_THALAMUS_RIGHT'\n",
      " 'CIFTI_STRUCTURE_THALAMUS_RIGHT' 'CIFTI_STRUCTURE_THALAMUS_RIGHT'] (91282,)\n"
     ]
    }
   ],
   "source": [
    "print(brain_ax.name, brain_ax.name.shape)\n"
   ]
  },
  {
   "cell_type": "code",
   "execution_count": 37,
   "id": "protective-anaheim",
   "metadata": {},
   "outputs": [
    {
     "data": {
      "text/plain": [
       "{'CIFTI_STRUCTURE_CORTEX_LEFT': 32492, 'CIFTI_STRUCTURE_CORTEX_RIGHT': 32492}"
      ]
     },
     "execution_count": 37,
     "metadata": {},
     "output_type": "execute_result"
    }
   ],
   "source": [
    "brain_ax.nvertices"
   ]
  },
  {
   "cell_type": "markdown",
   "id": "breeding-madness",
   "metadata": {},
   "source": [
    "`BrainModelAxis` methods:\n",
    "\n",
    "- `iter_structures`: (BRAINSTRUCT, slice, brain model covering specific region)\n",
    "- `to_mapping`: Convert into a `MatrixIndicesMap` for storage in CIFTI-2 format"
   ]
  },
  {
   "cell_type": "code",
   "execution_count": 40,
   "id": "fixed-testament",
   "metadata": {
    "scrolled": true
   },
   "outputs": [
    {
     "data": {
      "text/plain": [
       "[('CIFTI_STRUCTURE_CORTEX_LEFT',\n",
       "  slice(0, 29696, None),\n",
       "  <nibabel.cifti2.cifti2_axes.BrainModelAxis at 0x7f74066e6310>),\n",
       " ('CIFTI_STRUCTURE_CORTEX_RIGHT',\n",
       "  slice(29696, 59412, None),\n",
       "  <nibabel.cifti2.cifti2_axes.BrainModelAxis at 0x7f74062d4640>),\n",
       " ('CIFTI_STRUCTURE_ACCUMBENS_LEFT',\n",
       "  slice(59412, 59547, None),\n",
       "  <nibabel.cifti2.cifti2_axes.BrainModelAxis at 0x7f74062d4d60>),\n",
       " ('CIFTI_STRUCTURE_ACCUMBENS_RIGHT',\n",
       "  slice(59547, 59687, None),\n",
       "  <nibabel.cifti2.cifti2_axes.BrainModelAxis at 0x7f74066e4040>)]"
      ]
     },
     "execution_count": 40,
     "metadata": {},
     "output_type": "execute_result"
    }
   ],
   "source": [
    "list(brain_ax.iter_structures())[:4]"
   ]
  },
  {
   "cell_type": "markdown",
   "id": "comic-pencil",
   "metadata": {},
   "source": [
    "`cifti2.Cifti2MatrixIndicesMap`\n",
    "\n",
    "Provides a mapping between matrix indices and their interpretation. The `MatrixIndicesMap` object can be used for all types of CIFTI-2 objects. The attributes stored are dependent on the data-type itself (i.e BrainModel, NamedMap, Parcel, Surface etc..)"
   ]
  },
  {
   "cell_type": "markdown",
   "id": "multiple-greece",
   "metadata": {},
   "source": [
    "`BrainModel` variant"
   ]
  },
  {
   "cell_type": "code",
   "execution_count": 80,
   "id": "incorporate-encyclopedia",
   "metadata": {},
   "outputs": [
    {
     "data": {
      "text/plain": [
       "'CIFTI_INDEX_TYPE_BRAIN_MODELS'"
      ]
     },
     "execution_count": 80,
     "metadata": {},
     "output_type": "execute_result"
    }
   ],
   "source": [
    "mapping = brain_ax.to_mapping(0)\n",
    "mapping.indices_map_to_data_type"
   ]
  },
  {
   "cell_type": "code",
   "execution_count": 81,
   "id": "round-charm",
   "metadata": {},
   "outputs": [
    {
     "data": {
      "text/plain": [
       "[<nibabel.cifti2.cifti2.Cifti2BrainModel at 0x7f7404a27550>,\n",
       " <nibabel.cifti2.cifti2.Cifti2BrainModel at 0x7f7404a27970>,\n",
       " <nibabel.cifti2.cifti2.Cifti2BrainModel at 0x7f7404a50040>,\n",
       " <nibabel.cifti2.cifti2.Cifti2BrainModel at 0x7f7404a39790>,\n",
       " <nibabel.cifti2.cifti2.Cifti2BrainModel at 0x7f7404a39820>,\n",
       " <nibabel.cifti2.cifti2.Cifti2BrainModel at 0x7f7404a391c0>,\n",
       " <nibabel.cifti2.cifti2.Cifti2BrainModel at 0x7f7404a39850>,\n",
       " <nibabel.cifti2.cifti2.Cifti2BrainModel at 0x7f7404a39f70>,\n",
       " <nibabel.cifti2.cifti2.Cifti2BrainModel at 0x7f7404a395e0>,\n",
       " <nibabel.cifti2.cifti2.Cifti2BrainModel at 0x7f7404a39700>,\n",
       " <nibabel.cifti2.cifti2.Cifti2BrainModel at 0x7f74049f9610>,\n",
       " <nibabel.cifti2.cifti2.Cifti2BrainModel at 0x7f74049f4be0>,\n",
       " <nibabel.cifti2.cifti2.Cifti2BrainModel at 0x7f74062cca00>,\n",
       " <nibabel.cifti2.cifti2.Cifti2BrainModel at 0x7f74049f0a60>,\n",
       " <nibabel.cifti2.cifti2.Cifti2BrainModel at 0x7f7404a80340>,\n",
       " <nibabel.cifti2.cifti2.Cifti2BrainModel at 0x7f7404a80970>,\n",
       " <nibabel.cifti2.cifti2.Cifti2BrainModel at 0x7f7404a80520>,\n",
       " <nibabel.cifti2.cifti2.Cifti2BrainModel at 0x7f7404a80370>,\n",
       " <nibabel.cifti2.cifti2.Cifti2BrainModel at 0x7f7404a802e0>,\n",
       " <nibabel.cifti2.cifti2.Cifti2BrainModel at 0x7f7404a800d0>,\n",
       " <nibabel.cifti2.cifti2.Cifti2BrainModel at 0x7f7404a80730>]"
      ]
     },
     "execution_count": 81,
     "metadata": {},
     "output_type": "execute_result"
    }
   ],
   "source": [
    "brain_models = list(mapping.brain_models)\n",
    "brain_models"
   ]
  },
  {
   "cell_type": "code",
   "execution_count": 82,
   "id": "incorporated-skating",
   "metadata": {},
   "outputs": [
    {
     "name": "stdout",
     "output_type": "stream",
     "text": [
      "['CIFTI_MODEL_TYPE_SURFACE', 'CIFTI_MODEL_TYPE_SURFACE', 'CIFTI_MODEL_TYPE_VOXELS', 'CIFTI_MODEL_TYPE_VOXELS', 'CIFTI_MODEL_TYPE_VOXELS', 'CIFTI_MODEL_TYPE_VOXELS', 'CIFTI_MODEL_TYPE_VOXELS', 'CIFTI_MODEL_TYPE_VOXELS', 'CIFTI_MODEL_TYPE_VOXELS', 'CIFTI_MODEL_TYPE_VOXELS', 'CIFTI_MODEL_TYPE_VOXELS', 'CIFTI_MODEL_TYPE_VOXELS', 'CIFTI_MODEL_TYPE_VOXELS', 'CIFTI_MODEL_TYPE_VOXELS', 'CIFTI_MODEL_TYPE_VOXELS', 'CIFTI_MODEL_TYPE_VOXELS', 'CIFTI_MODEL_TYPE_VOXELS', 'CIFTI_MODEL_TYPE_VOXELS', 'CIFTI_MODEL_TYPE_VOXELS', 'CIFTI_MODEL_TYPE_VOXELS', 'CIFTI_MODEL_TYPE_VOXELS']\n"
     ]
    }
   ],
   "source": [
    "print([b.model_type for b in brain_models])"
   ]
  },
  {
   "cell_type": "code",
   "execution_count": 76,
   "id": "premier-footage",
   "metadata": {},
   "outputs": [
    {
     "name": "stdout",
     "output_type": "stream",
     "text": [
      "['CIFTI_STRUCTURE_CORTEX_LEFT', 'CIFTI_STRUCTURE_CORTEX_RIGHT', 'CIFTI_STRUCTURE_ACCUMBENS_LEFT', 'CIFTI_STRUCTURE_ACCUMBENS_RIGHT', 'CIFTI_STRUCTURE_AMYGDALA_LEFT', 'CIFTI_STRUCTURE_AMYGDALA_RIGHT', 'CIFTI_STRUCTURE_BRAIN_STEM', 'CIFTI_STRUCTURE_CAUDATE_LEFT', 'CIFTI_STRUCTURE_CAUDATE_RIGHT', 'CIFTI_STRUCTURE_CEREBELLUM_LEFT', 'CIFTI_STRUCTURE_CEREBELLUM_RIGHT', 'CIFTI_STRUCTURE_DIENCEPHALON_VENTRAL_LEFT', 'CIFTI_STRUCTURE_DIENCEPHALON_VENTRAL_RIGHT', 'CIFTI_STRUCTURE_HIPPOCAMPUS_LEFT', 'CIFTI_STRUCTURE_HIPPOCAMPUS_RIGHT', 'CIFTI_STRUCTURE_PALLIDUM_LEFT', 'CIFTI_STRUCTURE_PALLIDUM_RIGHT', 'CIFTI_STRUCTURE_PUTAMEN_LEFT', 'CIFTI_STRUCTURE_PUTAMEN_RIGHT', 'CIFTI_STRUCTURE_THALAMUS_LEFT', 'CIFTI_STRUCTURE_THALAMUS_RIGHT']\n"
     ]
    }
   ],
   "source": [
    "print([b.brain_structure for b in brain_models])"
   ]
  },
  {
   "cell_type": "markdown",
   "id": "special-california",
   "metadata": {},
   "source": [
    "`Series` variant, only contains basic information about SeriesAxis object"
   ]
  },
  {
   "cell_type": "code",
   "execution_count": 89,
   "id": "israeli-terminology",
   "metadata": {},
   "outputs": [
    {
     "data": {
      "text/plain": [
       "'CIFTI_INDEX_TYPE_SERIES'"
      ]
     },
     "execution_count": 89,
     "metadata": {},
     "output_type": "execute_result"
    }
   ],
   "source": [
    "# The dim argument doesn't seem to make a difference\n",
    "mapping = series_ax.to_mapping(1)\n",
    "mapping.indices_map_to_data_type"
   ]
  },
  {
   "cell_type": "code",
   "execution_count": 90,
   "id": "difficult-replacement",
   "metadata": {},
   "outputs": [
    {
     "data": {
      "text/plain": [
       "(0.0, 0.8, 'SECOND')"
      ]
     },
     "execution_count": 90,
     "metadata": {},
     "output_type": "execute_result"
    }
   ],
   "source": [
    "mapping.series_start, mapping.series_step, mapping.series_unit"
   ]
  },
  {
   "cell_type": "code",
   "execution_count": 92,
   "id": "absolute-license",
   "metadata": {},
   "outputs": [
    {
     "data": {
      "text/plain": [
       "106"
      ]
     },
     "execution_count": 92,
     "metadata": {},
     "output_type": "execute_result"
    }
   ],
   "source": [
    "mapping.number_of_series_points"
   ]
  },
  {
   "cell_type": "markdown",
   "id": "vertical-portsmouth",
   "metadata": {},
   "source": [
    "Constructing a new valid `dtseries` object:\n",
    "\n",
    "1. We can leave the BrainModelAxis be\n",
    "2. We have to construct a new SeriesAxis"
   ]
  },
  {
   "cell_type": "code",
   "execution_count": 119,
   "id": "northern-recording",
   "metadata": {},
   "outputs": [],
   "source": [
    "DROP_TR = 5\n",
    "series_ax = dtseries.header.get_axis(0)\n",
    "data = np.asanyarray(dtseries.dataobj)\n",
    "nifti_header = dtseries.nifti_header"
   ]
  },
  {
   "cell_type": "markdown",
   "id": "rising-theorem",
   "metadata": {},
   "source": [
    "Let's drop a few frames from `data`"
   ]
  },
  {
   "cell_type": "code",
   "execution_count": 134,
   "id": "least-campaign",
   "metadata": {},
   "outputs": [
    {
     "data": {
      "text/plain": [
       "(101, 91282)"
      ]
     },
     "execution_count": 134,
     "metadata": {},
     "output_type": "execute_result"
    }
   ],
   "source": [
    "data_dropped = data[DROP_TR:, :].copy()\n",
    "data_dropped.shape"
   ]
  },
  {
   "cell_type": "markdown",
   "id": "sealed-depth",
   "metadata": {},
   "source": [
    "Now let's update the old `SeriesAxis`"
   ]
  },
  {
   "cell_type": "code",
   "execution_count": 117,
   "id": "wound-chest",
   "metadata": {},
   "outputs": [],
   "source": [
    "from nibabel.cifti2 import cifti2_axes\n",
    "from nibabel.cifti2 import Cifti2Image"
   ]
  },
  {
   "cell_type": "code",
   "execution_count": 115,
   "id": "bizarre-passport",
   "metadata": {},
   "outputs": [],
   "source": [
    "new_series_ax = cifti2_axes.SeriesAxis(\n",
    "    start=series_ax.start + DROP_TR*series_ax.step,\n",
    "    step = series_ax.step,\n",
    "    size = series_ax.size - DROP_TR,\n",
    "    unit = series_ax.unit\n",
    ")"
   ]
  },
  {
   "cell_type": "markdown",
   "id": "specific-india",
   "metadata": {},
   "source": [
    "Now we can construct a new header object"
   ]
  },
  {
   "cell_type": "code",
   "execution_count": 116,
   "id": "moderate-latitude",
   "metadata": {},
   "outputs": [],
   "source": [
    "new_header = cifti2_axes.to_header([\n",
    "    new_series_ax, brain_ax\n",
    "])"
   ]
  },
  {
   "cell_type": "markdown",
   "id": "neither-pasta",
   "metadata": {},
   "source": [
    "Finally we can associate the dataobj with the header"
   ]
  },
  {
   "cell_type": "code",
   "execution_count": 144,
   "id": "rational-hungarian",
   "metadata": {},
   "outputs": [
    {
     "data": {
      "text/plain": [
       "(106, 91282)"
      ]
     },
     "execution_count": 144,
     "metadata": {},
     "output_type": "execute_result"
    }
   ],
   "source": [
    "dtseries.get_fdata().shape"
   ]
  },
  {
   "cell_type": "code",
   "execution_count": 147,
   "id": "potential-dressing",
   "metadata": {},
   "outputs": [],
   "source": [
    "new_dtseries = Cifti2Image(\n",
    "    dataobj=data_dropped,\n",
    "    header=new_header\n",
    ")\n",
    "\n",
    "nib.save(new_dtseries,'test.dtseries.nii')"
   ]
  },
  {
   "cell_type": "markdown",
   "id": "liked-thumb",
   "metadata": {},
   "source": [
    "You can now verify in `connectome-workbench` whether the result is as expected"
   ]
  }
 ],
 "metadata": {
  "kernelspec": {
   "display_name": "Python 3",
   "language": "python",
   "name": "python3"
  },
  "language_info": {
   "codemirror_mode": {
    "name": "ipython",
    "version": 3
   },
   "file_extension": ".py",
   "mimetype": "text/x-python",
   "name": "python",
   "nbconvert_exporter": "python",
   "pygments_lexer": "ipython3",
   "version": "3.8.0"
  }
 },
 "nbformat": 4,
 "nbformat_minor": 5
}
